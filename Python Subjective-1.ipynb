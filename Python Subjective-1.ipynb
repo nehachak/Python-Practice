{
 "cells": [
  {
   "cell_type": "code",
   "execution_count": 2,
   "metadata": {},
   "outputs": [
    {
     "name": "stdout",
     "output_type": "stream",
     "text": [
      "Expected Result: pros$ect\n"
     ]
    }
   ],
   "source": [
    "#Question 1\n",
    "\n",
    "word='prospect'\n",
    "char=word[0]\n",
    "word=word.replace(char,'$')\n",
    "str=char+word[1:]\n",
    "print(\"Expected Result:\",str)\n"
   ]
  },
  {
   "cell_type": "code",
   "execution_count": 1,
   "metadata": {},
   "outputs": [
    {
     "name": "stdout",
     "output_type": "stream",
     "text": [
      "Expected Result: xyc abz\n"
     ]
    }
   ],
   "source": [
    "#Question 2\n",
    "str1=\"abc\"\n",
    "str2=\"xyz\"\n",
    "a,b=str2[:2]+str1[2:],str1[:2]+str2[2:]\n",
    "print(\"Expected Result:\", a,b)"
   ]
  },
  {
   "cell_type": "code",
   "execution_count": 4,
   "metadata": {},
   "outputs": [
    {
     "name": "stdout",
     "output_type": "stream",
     "text": [
      "Expected result: abcing\n",
      "Expected result: stringly\n"
     ]
    }
   ],
   "source": [
    "#Question 3\n",
    "def str(value):\n",
    "    if len(value)>2:\n",
    "        if value.endswith('ing'):\n",
    "            print(\"Expected result:\",value+'ly')\n",
    "    \n",
    "        else:\n",
    "            print(\"Expected result:\" ,value+'ing') \n",
    "\n",
    "str('abc')\n",
    "str('string')"
   ]
  },
  {
   "cell_type": "code",
   "execution_count": 101,
   "metadata": {},
   "outputs": [
    {
     "name": "stdout",
     "output_type": "stream",
     "text": [
      "The lyrics is good!\n",
      "The lyrics is poor!\n"
     ]
    }
   ],
   "source": [
    "#Question 4\n",
    "def nt_poor(str1):\n",
    "    snot = str1.find('not')\n",
    "    spoor = str1.find('poor')\n",
    "\n",
    "    if spoor > snot and snot > 0 and spoor > 0:\n",
    "        str1 = str1.replace(str1[snot:(spoor + 4)], 'good')\n",
    "        return str1\n",
    "    else:\n",
    "        return str1\n",
    "\n",
    "\n",
    "print(nt_poor('The lyrics is not that poor!'))\n",
    "print(nt_poor('The lyrics is poor!'))\n",
    "\n"
   ]
  },
  {
   "cell_type": "code",
   "execution_count": 1,
   "metadata": {},
   "outputs": [
    {
     "name": "stdout",
     "output_type": "stream",
     "text": [
      "String after removing odd index is : Mcieerig\n",
      "String after removing odd index is : iern\n"
     ]
    }
   ],
   "source": [
    "#Question 5\n",
    "def remv_char(str):\n",
    "    str1=\"\"\n",
    "    for i in range(len(str)):\n",
    "        if i%2==0:\n",
    "            str1=str1+str[i]\n",
    "    print(\"String after removing odd index is :\",str1)\n",
    "\n",
    "remv_char(\"MachineLearning\")\n",
    "remv_char(\"ineuron\")"
   ]
  },
  {
   "cell_type": "code",
   "execution_count": 2,
   "metadata": {},
   "outputs": [
    {
     "name": "stdout",
     "output_type": "stream",
     "text": [
      "4 copies of the last two characters is:  onononon\n",
      "4 copies of the last two characters is:  eseseses\n"
     ]
    }
   ],
   "source": [
    "#Question 6\n",
    "def cpy_str(str):\n",
    "    \n",
    "    a=str[-2:]\n",
    "    print(\"4 copies of the last two characters is: \", a*4)\n",
    "\n",
    "cpy_str(\"python\")\n",
    "cpy_str(\"Exercises\")"
   ]
  },
  {
   "cell_type": "code",
   "execution_count": 5,
   "metadata": {},
   "outputs": [
    {
     "name": "stdout",
     "output_type": "stream",
     "text": [
      "First three character from given string : pyt\n",
      "First three character from given string : ipy\n",
      "Length of entered string is less than 3 : oh\n"
     ]
    }
   ],
   "source": [
    "#Question 7\n",
    "def first_three(str):\n",
    "    if len(str)>=3:\n",
    "        a=str[:3]\n",
    "        print(\"First three character from given string :\", a)\n",
    "    else:\n",
    "        print(\"Length of entered string is less than 3 :\",str)\n",
    "\n",
    "first_three(\"python\")\n",
    "first_three(\"ipy\")\n",
    "first_three(\"oh\")"
   ]
  },
  {
   "cell_type": "code",
   "execution_count": 6,
   "metadata": {},
   "outputs": [
    {
     "name": "stdout",
     "output_type": "stream",
     "text": [
      "floating numbers up to 2 decimal places : 30.13\n"
     ]
    }
   ],
   "source": [
    "#Question 8\n",
    "def float_num(num):\n",
    "    f=float(\"{0:.2f}\".format(num))\n",
    "    print(\"floating numbers up to 2 decimal places :\",f)\n",
    "float_num(30.12568)"
   ]
  },
  {
   "cell_type": "code",
   "execution_count": 7,
   "metadata": {},
   "outputs": [
    {
     "name": "stdout",
     "output_type": "stream",
     "text": [
      "Format a number with a percentage : 2.30%\n",
      "Format a number with a percentage : 22.00%\n"
     ]
    }
   ],
   "source": [
    "#Question 9\n",
    "def format_num(num):\n",
    "    \n",
    "    print(\"Format a number with a percentage :\",\"{0:.2%}\".format(num))\n",
    "format_num(0.023)\n",
    "format_num(0.22)"
   ]
  },
  {
   "cell_type": "code",
   "execution_count": 3,
   "metadata": {},
   "outputs": [
    {
     "name": "stdout",
     "output_type": "stream",
     "text": [
      "Count occurrences of a substring in a String is: 2\n"
     ]
    }
   ],
   "source": [
    "#Question 10\n",
    "str=\"hello! new world, digital world\"\n",
    "print(\"Count occurrences of a substring in a String is:\",str.count(\"world\"))"
   ]
  },
  {
   "cell_type": "code",
   "execution_count": 2,
   "metadata": {},
   "outputs": [
    {
     "name": "stdout",
     "output_type": "stream",
     "text": [
      "o 3 \n",
      "e 3 \n",
      "u 2 \n",
      "h 2 \n",
      "r 2 \n",
      "t 2\n"
     ]
    }
   ],
   "source": [
    "#Question 11\n",
    "from collections import Counter \n",
    "sample_str =  ' thequickbrownjumpsoverthelazydog '\n",
    "\n",
    "count=Counter(sample_str)\n",
    "print(\"o \"+str(count['o']),'\\ne '+str(count['e']),'\\nu '+str(count['u'])\n",
    "      ,'\\nh '+str(count['h']),'\\nr '+str(count['r']),\n",
    "      '\\nt '+str(count['t']))\n",
    "  \n",
    "\n",
    "  \n"
   ]
  },
  {
   "cell_type": "code",
   "execution_count": 3,
   "metadata": {},
   "outputs": [],
   "source": [
    "#Question 12\n",
    "\n"
   ]
  },
  {
   "cell_type": "code",
   "execution_count": 4,
   "metadata": {},
   "outputs": [
    {
     "name": "stdout",
     "output_type": "stream",
     "text": [
      "yes, a string contains all letters of the alphabet\n"
     ]
    }
   ],
   "source": [
    "#Question 13\n",
    "import string\n",
    "sample_string= \"thequickbrownjumpsoverthelazydog\"\n",
    "if sample_string>=string.ascii_lowercase:\n",
    "    print(\"yes, a string contains all letters of the alphabet\")\n",
    "else:\n",
    "    prit(\"No,a string contains all letters of the alphabet\")"
   ]
  },
  {
   "cell_type": "code",
   "execution_count": 103,
   "metadata": {},
   "outputs": [
    {
     "name": "stdout",
     "output_type": "stream",
     "text": [
      "('of', 4)\n"
     ]
    }
   ],
   "source": [
    "#Question 14\n",
    "def word_count(str):\n",
    "    counts = dict()\n",
    "    words = str.split()\n",
    "\n",
    "    for word in words:\n",
    "        if word in counts:\n",
    "            counts[word] += 1\n",
    "        else:\n",
    "            counts[word] = 1\n",
    "\n",
    "    counts_x = sorted(counts.items(), key=lambda kv: kv[1])\n",
    "   \n",
    "    return counts_x[-2]\n",
    "\n",
    "\n",
    "print(word_count(\n",
    "    \"Both of these issues are fixed by postponing the evaluation of annotations. Instead of compiling code which executes expressions in annotations at their definition time, the compiler stores the annotation in a string form equivalent to the AST of the expression in question. If needed, annotations can be resolved at runtime using typing.get_type_hints(). In the common case where this is not required, the annotations are cheaper to store (since short strings are interned by the interpreter) and make startup time faster.\"))\n"
   ]
  },
  {
   "cell_type": "code",
   "execution_count": 2,
   "metadata": {},
   "outputs": [
    {
     "name": "stdout",
     "output_type": "stream",
     "text": [
      "Original Strings:\n",
      " PRWSOERIUSFK \n",
      " OSU\n",
      "Minimum window: OERIUS\n"
     ]
    }
   ],
   "source": [
    "#Question 15\n",
    "import collections\n",
    "def min_window(str1, str2):\n",
    "    need = collections.Counter(str2)\n",
    "    i=q=p=0\n",
    "    missing=len(str2)\n",
    "    for j, c in enumerate(str1, 1):\n",
    "        missing -= need[c] > 0\n",
    "        need[c] -= 1\n",
    "        if not missing:\n",
    "            while i < q and need[str1[i]] < 0:\n",
    "                need[str1[i]] += 1\n",
    "                i += 1\n",
    "            if not q or j - i <= q - p:\n",
    "                p, q = i, j\n",
    "    return str1[p:q]\n",
    "\n",
    "\n",
    "str1 = \"PRWSOERIUSFK\"\n",
    "str2 = \"OSU\"\n",
    "print(\"Original Strings:\\n\", str1, \"\\n\", str2)\n",
    "print(\"Minimum window:\",min_window(str1, str2))"
   ]
  },
  {
   "cell_type": "code",
   "execution_count": 104,
   "metadata": {},
   "outputs": [
    {
     "name": "stdout",
     "output_type": "stream",
     "text": [
      "Original Strings:\n",
      " asdaewsqgtwwsa\n",
      "\n",
      "Smallest window : daewsqgt\n"
     ]
    }
   ],
   "source": [
    "#Question 16\n",
    "from collections import defaultdict\n",
    "\n",
    "def find_sub_string(str):\n",
    "    str_len = len(str)\n",
    "    dist_count_char = len(set([x for x in str]))\n",
    "\n",
    "    ctr, srt_pos, srt_pos_index, min_len = 0, 0, -1, 9999999999\n",
    "    curr_count = defaultdict(lambda: 0)\n",
    "    for i in range(str_len):\n",
    "        curr_count[str[i]] += 1\n",
    "\n",
    "        if curr_count[str[i]] == 1:\n",
    "            ctr += 1\n",
    "\n",
    "        if ctr == dist_count_char:\n",
    "            while curr_count[str[srt_pos]] > 1:\n",
    "                if curr_count[str[srt_pos]] > 1:\n",
    "                    curr_count[str[srt_pos]] -= 1\n",
    "                srt_pos += 1\n",
    "\n",
    "            len_window = i - srt_pos + 1\n",
    "            if min_len > len_window:\n",
    "                min_len = len_window\n",
    "                srt_pos_index = srt_pos\n",
    "    return str[srt_pos_index: srt_pos_index + min_len]\n",
    "\n",
    "\n",
    "str1 = \"asdaewsqgtwwsa\"\n",
    "print(\"Original Strings:\\n\", str1)\n",
    "print(\"\\nSmallest window :\",find_sub_string(str1))\n"
   ]
  },
  {
   "cell_type": "code",
   "execution_count": 1,
   "metadata": {},
   "outputs": [
    {
     "name": "stdout",
     "output_type": "stream",
     "text": [
      "Input a string (lowercase alphabets):wolf\n",
      "Input k: 4\n",
      "Number of substrings with exactly 4 distinct characters : 1\n"
     ]
    }
   ],
   "source": [
    "#Question 17\n",
    "def count_k_dist(str, k):\n",
    "    str_len = len(str)\n",
    "\n",
    "    result = 0\n",
    "\n",
    "    ctr = [0] * 27\n",
    "\n",
    "    for i in range(0, str_len):\n",
    "        distn_ctr = 0\n",
    "\n",
    "        ctr = [0] * 27\n",
    "\n",
    "        for j in range(i, str_len):\n",
    "\n",
    "            if (ctr[ord(str[j]) - 97] == 0):\n",
    "                distn_ctr += 1\n",
    "\n",
    "            ctr[ord(str[j]) - 97] += 1\n",
    "\n",
    "            if (distn_ctr == k):\n",
    "                result += 1\n",
    "            if (distn_ctr > k):\n",
    "                break\n",
    "\n",
    "    return result\n",
    "\n",
    "\n",
    "str = input(\"Input a string (lowercase alphabets):\")\n",
    "k = int(input(\"Input k: \"))\n",
    "print(\"Number of substrings with exactly\", k, \"distinct characters : \", end=\"\")\n",
    "print(count_k_dist(str, k))"
   ]
  },
  {
   "cell_type": "code",
   "execution_count": 2,
   "metadata": {},
   "outputs": [
    {
     "name": "stdout",
     "output_type": "stream",
     "text": [
      "55\n"
     ]
    }
   ],
   "source": [
    "#Question 18\n",
    "def countNonEmptySubstr(str):\n",
    "\n",
    "    n = len(str)\n",
    "    return int(n * (n + 1) / 2)\n",
    "\n",
    "s = \"w3resource\"\n",
    "print(countNonEmptySubstr(s))"
   ]
  },
  {
   "cell_type": "code",
   "execution_count": 2,
   "metadata": {},
   "outputs": [
    {
     "name": "stdout",
     "output_type": "stream",
     "text": [
      "Input a string: abcd\n",
      "4\n"
     ]
    }
   ],
   "source": [
    "#Question 19\n",
    "def substr(str):\n",
    "    result = 0\n",
    "    n = len(str)\n",
    "    for i in range(n):\n",
    "        for j in range(i, n):\n",
    "            if (str[i] == str[j]):\n",
    "                result = result + 1\n",
    "    return result\n",
    "str = input(\"Input a string: \")\n",
    "print(substr(str))"
   ]
  },
  {
   "cell_type": "code",
   "execution_count": 5,
   "metadata": {},
   "outputs": [
    {
     "name": "stdout",
     "output_type": "stream",
     "text": [
      "['abc', 'xyz', 'aba', '1221']\n",
      "2\n"
     ]
    }
   ],
   "source": [
    "#Question 20\n",
    "def lst_str(words):\n",
    "    ctr = 0\n",
    "    print(words)\n",
    "\n",
    "    for str in words:\n",
    "        if len(str) > 1 and str[0] == str[-1]:\n",
    "            ctr += 1\n",
    "    return ctr\n",
    "\n",
    "print(lst_str(['abc', 'xyz', 'aba', '1221']))"
   ]
  },
  {
   "cell_type": "code",
   "execution_count": 6,
   "metadata": {},
   "outputs": [
    {
     "name": "stdout",
     "output_type": "stream",
     "text": [
      "[(2, 1), (1, 2), (2, 3), (4, 4), (2, 5)]\n"
     ]
    }
   ],
   "source": [
    "#Question 21\n",
    "def last(n):\n",
    "    return n[-1]\n",
    "\n",
    "\n",
    "def sort_tpl(tuples):\n",
    "    return sorted(tuples, key=last)\n",
    "\n",
    "print(sort_tpl([(2, 5), (1, 2), (4, 4), (2, 3), (2, 1)]))"
   ]
  },
  {
   "cell_type": "code",
   "execution_count": 13,
   "metadata": {},
   "outputs": [
    {
     "name": "stdout",
     "output_type": "stream",
     "text": [
      "[1, 2, 4, 5]\n"
     ]
    }
   ],
   "source": [
    "#Question 22\n",
    " \n",
    "def my_function(x):\n",
    "    return list(dict.fromkeys(x))\n",
    "\n",
    "mylist = my_function([1, 2, 2, 4, 5])\n",
    "\n",
    "print(mylist) \n"
   ]
  },
  {
   "cell_type": "code",
   "execution_count": 1,
   "metadata": {},
   "outputs": [
    {
     "name": "stdout",
     "output_type": "stream",
     "text": [
      "['Machine', 'learning', 'scientific', 'study', 'algorithms', 'statistical', 'models']\n"
     ]
    }
   ],
   "source": [
    "#Question 23\n",
    "def lst_word(str,n):\n",
    "    word=[]\n",
    "    txt=str.split(\" \")\n",
    "    for x in txt:\n",
    "        if len(x)>n:\n",
    "            word.append(x)\n",
    "    return word\n",
    "\n",
    "print(lst_word(\"Machine learning is the scientific study of algorithms and statistical models\",4))"
   ]
  },
  {
   "cell_type": "code",
   "execution_count": 2,
   "metadata": {},
   "outputs": [
    {
     "name": "stdout",
     "output_type": "stream",
     "text": [
      "['Green', 'White', 'Black']\n"
     ]
    }
   ],
   "source": [
    "#Question 24\n",
    "color = ['Red', 'Green', 'White', 'Black', 'Pink', 'Yellow']\n",
    "color = [lst for (i,lst) in enumerate(color) if i not in (0,4,5)]\n",
    "print(color)"
   ]
  },
  {
   "cell_type": "code",
   "execution_count": 1,
   "metadata": {},
   "outputs": [
    {
     "name": "stdout",
     "output_type": "stream",
     "text": [
      "[(1, 2, 3), (1, 3, 2), (2, 1, 3), (2, 3, 1), (3, 1, 2), (3, 2, 1)]\n"
     ]
    }
   ],
   "source": [
    "#Question 25\n",
    "import itertools\n",
    "print(list(itertools.permutations([1,2,3])))"
   ]
  },
  {
   "cell_type": "code",
   "execution_count": 4,
   "metadata": {},
   "outputs": [
    {
     "name": "stdout",
     "output_type": "stream",
     "text": [
      "Original List:  [(1, 2), (3, 4), (1, 2), (5, 6), (7, 8), (1, 2), (3, 4), (3, 4), (7, 8), (9, 10)]\n",
      "sorted List [1, 2, 3, 4, 5, 6, 7, 8, 9, 10]\n"
     ]
    }
   ],
   "source": [
    "#Question 26\n",
    "L = [(1, 2), (3, 4), (1, 2), (5, 6), (7, 8), (1, 2), (3, 4), (3, 4),\n",
    " (7, 8), (9, 10)]\n",
    "print(\"Original List: \", L)\n",
    "s=sorted(set().union(*L))\n",
    "print(\"sorted List\",s)"
   ]
  },
  {
   "cell_type": "code",
   "execution_count": 5,
   "metadata": {},
   "outputs": [
    {
     "name": "stdout",
     "output_type": "stream",
     "text": [
      "I\n",
      "CCCC\n"
     ]
    }
   ],
   "source": [
    "#Question 27\n",
    "class roman_num:\n",
    "    def int_rom(self, num):\n",
    "        val = [100, 90, 50, 40,\n",
    "            10, 9, 5, 4,1]\n",
    "        syb = [ \"C\", \"XC\", \"L\", \"XL\",\n",
    "            \"X\", \"IX\", \"V\", \"IV\", \"I\"]\n",
    "        roman_num = ''\n",
    "        i = 0\n",
    "        while  num > 0:\n",
    "            for _ in range(num // val[i]):\n",
    "                roman_num += syb[i]\n",
    "                num -= val[i]\n",
    "            i += 1\n",
    "        return roman_num\n",
    "\n",
    "\n",
    "print(roman_num().int_rom(1))\n",
    "print(roman_num().int_rom(400))\n"
   ]
  },
  {
   "cell_type": "code",
   "execution_count": 6,
   "metadata": {},
   "outputs": [
    {
     "name": "stdout",
     "output_type": "stream",
     "text": [
      "3986\n",
      "4000\n"
     ]
    }
   ],
   "source": [
    "#Question 28\n",
    "class num_roman:\n",
    "    def rom_int(self, s):\n",
    "        rom_val = {'I': 1, 'V': 5, 'X': 10, 'L': 50, 'C': 100, 'D': 500, 'M': 1000}\n",
    "        int_val = 0\n",
    "        for i in range(len(s)):\n",
    "            if i > 0 and rom_val[s[i]] > rom_val[s[i - 1]]:\n",
    "                int_val += rom_val[s[i]] - 2 * rom_val[s[i - 1]]\n",
    "            else:\n",
    "                int_val += rom_val[s[i]]\n",
    "        return int_val\n",
    "\n",
    "print(num_roman().rom_int('MMMCMLXXXVI'))\n",
    "print(num_roman().rom_int('MMMM'))\n"
   ]
  },
  {
   "cell_type": "code",
   "execution_count": 7,
   "metadata": {},
   "outputs": [
    {
     "name": "stdout",
     "output_type": "stream",
     "text": [
      "True\n",
      "False\n",
      "True\n"
     ]
    }
   ],
   "source": [
    "#Question 29\n",
    "class practice:\n",
    "    def is_parenthese(self, str1):\n",
    "        lst, p_char = [], {\"(\": \")\", \"{\": \"}\", \"[\": \"]\"}\n",
    "        for parenthese in str1:\n",
    "            if parenthese in p_char:\n",
    "                lst.append(parenthese)\n",
    "            elif len(lst) == 0 or p_char[lst.pop()] != parenthese:\n",
    "                return False\n",
    "        return len(lst) == 0\n",
    "\n",
    "print(practice().is_parenthese(\"(){}[]\"))\n",
    "print(practice().is_parenthese(\"()[{)}\"))\n",
    "print(practice().is_parenthese(\"()\"))\n"
   ]
  },
  {
   "cell_type": "code",
   "execution_count": 1,
   "metadata": {},
   "outputs": [
    {
     "name": "stdout",
     "output_type": "stream",
     "text": [
      "[[], [6], [5], [5, 6], [4], [4, 6], [4, 5], [4, 5, 6]]\n"
     ]
    }
   ],
   "source": [
    "#Question 30\n",
    "class practis:\n",
    "    def sub_sets(self, lst):\n",
    "        return self.posbl_set([], sorted(lst))\n",
    "\n",
    "    def posbl_set(self, current, lst):\n",
    "        if lst:\n",
    "            return self.posbl_set(current, lst[1:]) + self.posbl_set(current + [lst[0]], lst[1:])\n",
    "        return [current]\n",
    "\n",
    "\n",
    "print(practis().sub_sets([4, 5, 6]))"
   ]
  },
  {
   "cell_type": "code",
   "execution_count": 2,
   "metadata": {},
   "outputs": [
    {
     "name": "stdout",
     "output_type": "stream",
     "text": [
      "(2, 3)\n"
     ]
    }
   ],
   "source": [
    "#Question 31\n",
    "class practs:\n",
    "    def two_ind(self, nums, target):\n",
    "        dict = {}\n",
    "        for i, num in enumerate(nums):\n",
    "            if target - num in dict:\n",
    "                return (dict[target - num], i )\n",
    "            dict[num] = i\n",
    "print(practs().two_ind((10,20,10,40,50,60,70),50))\n"
   ]
  },
  {
   "cell_type": "code",
   "execution_count": 1,
   "metadata": {},
   "outputs": [
    {
     "name": "stdout",
     "output_type": "stream",
     "text": [
      "[[-10, 2, 8], [-7, -3, 10]]\n"
     ]
    }
   ],
   "source": [
    "#Question 32\n",
    "class practis:\n",
    "    def sum_lst(self, nums):\n",
    "        nums, result, i = sorted(nums), [], 0\n",
    "        while i < len(nums) - 2:\n",
    "            j, k = i + 1, len(nums) - 1\n",
    "            while j < k:\n",
    "                if nums[i] + nums[j] + nums[k] < 0:\n",
    "                    j += 1\n",
    "                elif nums[i] + nums[j] + nums[k] > 0:\n",
    "                    k -= 1\n",
    "                else:\n",
    "                    result.append([nums[i], nums[j], nums[k]])\n",
    "                    j, k = j + 1, k - 1\n",
    "                    while j < k and nums[j] == nums[j - 1]:\n",
    "                        j += 1\n",
    "                    while j < k and nums[k] == nums[k + 1]:\n",
    "                        k -= 1\n",
    "            i += 1\n",
    "            while i < len(nums) - 2 and nums[i] == nums[i - 1]:\n",
    "                i += 1\n",
    "        return result\n",
    "\n",
    "print(practis().sum_lst([-25, -10, -7, -3, 2, 4, 8, 10]))\n"
   ]
  },
  {
   "cell_type": "code",
   "execution_count": 1,
   "metadata": {},
   "outputs": [
    {
     "name": "stdout",
     "output_type": "stream",
     "text": [
      "0.125\n",
      "243\n",
      "1\n"
     ]
    }
   ],
   "source": [
    "#Question 33\n",
    "class pow_imp:\n",
    "    def pow(self, x, n):\n",
    "        if x==0 or x==1 or n==1:\n",
    "            return x\n",
    "\n",
    "        if x==-1:\n",
    "            if n%2 ==0:\n",
    "                return 1\n",
    "            else:\n",
    "                return -1\n",
    "        if n==0:\n",
    "            return 1\n",
    "        if n<0:\n",
    "            return 1/self.pow(x,-n)\n",
    "        val = self.pow(x,n//2)\n",
    "        if n%2 ==0:\n",
    "            return val*val\n",
    "        return val*val*x\n",
    "\n",
    "print(pow_imp().pow(2, -3));\n",
    "print(pow_imp().pow(3, 5));\n",
    "print(pow_imp().pow(100, 0));\n",
    "\n"
   ]
  },
  {
   "cell_type": "code",
   "execution_count": 2,
   "metadata": {},
   "outputs": [
    {
     "name": "stdout",
     "output_type": "stream",
     "text": [
      "Input any word as value:machine\n",
      "MACHINE\n"
     ]
    }
   ],
   "source": [
    "#Question 34\n",
    "class IOString():\n",
    "    def __init__(self):\n",
    "        self.str1 = \"\"\n",
    "\n",
    "    def get_String(self):\n",
    "        self.str1 = input(\"Input any word as value:\")\n",
    "\n",
    "    def print_String(self):\n",
    "        print(self.str1.upper())\n",
    "\n",
    "str1 = IOString()\n",
    "str1.get_String()\n",
    "str1.print_String()"
   ]
  },
  {
   "cell_type": "code",
   "execution_count": 3,
   "metadata": {},
   "outputs": [
    {
     "name": "stdout",
     "output_type": "stream",
     "text": [
      "120\n"
     ]
    }
   ],
   "source": [
    "#Question 35\n",
    "class Rectang():\n",
    "    def __init__(self, l, w):\n",
    "        self.length = l\n",
    "        self.width  = w\n",
    "\n",
    "    def rect_area(self):\n",
    "        return self.length*self.width\n",
    "\n",
    "newRect = Rectang(12, 10)\n",
    "print(newRect.rect_area())\n"
   ]
  },
  {
   "cell_type": "code",
   "execution_count": 4,
   "metadata": {},
   "outputs": [
    {
     "name": "stdout",
     "output_type": "stream",
     "text": [
      "200.96\n",
      "50.24\n"
     ]
    }
   ],
   "source": [
    "#Question 36\n",
    "class Circle():\n",
    "    def __init__(self, r):\n",
    "        self.radius = r\n",
    "\n",
    "    def area(self):\n",
    "        return self.radius ** 2 * 3.14\n",
    "\n",
    "    def perimeter(self):\n",
    "        return 2 * self.radius * 3.14\n",
    "\n",
    "\n",
    "NewCircle = Circle(8)\n",
    "print(NewCircle.area())\n",
    "print(NewCircle.perimeter())\n"
   ]
  },
  {
   "cell_type": "code",
   "execution_count": 5,
   "metadata": {},
   "outputs": [
    {
     "name": "stdout",
     "output_type": "stream",
     "text": [
      "count\n"
     ]
    }
   ],
   "source": [
    "#Question 37\n",
    "import itertools\n",
    "x = itertools.count(0)\n",
    "print(type(x).__name__)"
   ]
  },
  {
   "cell_type": "code",
   "execution_count": 6,
   "metadata": {},
   "outputs": [
    {
     "name": "stdout",
     "output_type": "stream",
     "text": [
      "Number of students of individual class: Counter({'VI': 3, 'V': 2, 'VII': 1})\n"
     ]
    }
   ],
   "source": [
    "#Question 38\n",
    "from collections import Counter\n",
    "classes = (\n",
    "    ('V', 1),\n",
    "    ('VI', 1),\n",
    "    ('V', 2),\n",
    "    ('VI', 2),\n",
    "    ('VI', 3),\n",
    "    ('VII', 1),\n",
    ")\n",
    "students = Counter(class_name for class_name, no_students in classes)\n",
    "print(\"Number of students of individual class:\",students)"
   ]
  },
  {
   "cell_type": "code",
   "execution_count": 8,
   "metadata": {},
   "outputs": [
    {
     "name": "stdout",
     "output_type": "stream",
     "text": [
      "Afghanistan 93\n",
      "Albania 355\n",
      "Algeria 213\n",
      "Andorra 376\n",
      "Angola 244\n",
      "\n",
      "In reverse order:\n",
      "Angola 244\n",
      "Andorra 376\n",
      "Algeria 213\n",
      "Albania 355\n",
      "Afghanistan 93\n"
     ]
    }
   ],
   "source": [
    "#Question 39\n",
    "from collections import OrderedDict\n",
    "dict = {'Afghanistan': 93, 'Albania': 355, 'Algeria': 213, 'Andorra': 376, 'Angola': 244}\n",
    "new_dict = OrderedDict(dict.items())\n",
    "for key in new_dict:\n",
    "    print (key, new_dict[key])\n",
    "\n",
    "print(\"\\nIn reverse order:\")\n",
    "for key in reversed(new_dict):\n",
    "    print (key, new_dict[key])\n"
   ]
  },
  {
   "cell_type": "code",
   "execution_count": 9,
   "metadata": {},
   "outputs": [
    {
     "name": "stdout",
     "output_type": "stream",
     "text": [
      "False\n"
     ]
    }
   ],
   "source": [
    "#Question 40\n",
    "from collections import Counter\n",
    "def compare_lst(x, y):\n",
    "    return Counter(x) == Counter(y)\n",
    "n1 = [20,50,10]\n",
    "n2 = [30,20,50,10]\n",
    "print(compare_lst(n1, n2))\n"
   ]
  },
  {
   "cell_type": "code",
   "execution_count": 1,
   "metadata": {},
   "outputs": [
    {
     "name": "stdout",
     "output_type": "stream",
     "text": [
      "Array buffer start address in memory and number of elements.\n",
      "(1720378486176, 2)\n"
     ]
    }
   ],
   "source": [
    "#Question 41\n",
    "from array import array\n",
    "a = array(\"h\", (12,25))\n",
    "print(\"Array buffer start address in memory and number of elements.\")\n",
    "print(a.buffer_info())"
   ]
  },
  {
   "cell_type": "code",
   "execution_count": 2,
   "metadata": {},
   "outputs": [
    {
     "name": "stdout",
     "output_type": "stream",
     "text": [
      "array is: array('b', [1, 2, 3, 4, 5])\n",
      "Array of bytes: b'0102030405'\n"
     ]
    }
   ],
   "source": [
    "#Question 42\n",
    "import array\n",
    "import binascii\n",
    "a = array.array('b', [1,2,3,4,5])\n",
    "print('array is:', a)\n",
    "byt_arr = a.tobytes()\n",
    "print('Array of bytes:', binascii.hexlify(byt_arr))"
   ]
  },
  {
   "cell_type": "code",
   "execution_count": 3,
   "metadata": {},
   "outputs": [
    {
     "name": "stdout",
     "output_type": "stream",
     "text": [
      "array1: array('i', [7, 8, 9, 10])\n",
      "Bytes: b'0700000008000000090000000a000000'\n"
     ]
    }
   ],
   "source": [
    "#Question 43\n",
    "from array import array\n",
    "import binascii\n",
    "array1 = array('i', [7, 8, 9, 10])\n",
    "print('array1:', array1)\n",
    "as_bytes = array1.tobytes()\n",
    "print('Bytes:', binascii.hexlify(as_bytes))"
   ]
  },
  {
   "cell_type": "code",
   "execution_count": 4,
   "metadata": {},
   "outputs": [
    {
     "name": "stdout",
     "output_type": "stream",
     "text": [
      "Items in the heap:\n",
      "('VI', 1)\n",
      "('VII', 3)\n",
      "('VIII', 2)\n",
      "----------------------\n",
      "The smallest item in the heap:\n",
      "('VI', 1)\n",
      "----------------------\n",
      "Pop the smallest item in the heap:\n",
      "('VII', 3)\n",
      "('VIII', 2)\n"
     ]
    }
   ],
   "source": [
    "#Question 44\n",
    "import heapq\n",
    "heap = []\n",
    "heapq.heappush(heap, ('VI', 1))\n",
    "heapq.heappush(heap, ('VII', 3))\n",
    "heapq.heappush(heap, ('VIII', 2))\n",
    "print(\"Items in the heap:\")\n",
    "for a in heap:\n",
    "    print(a)\n",
    "print(\"----------------------\")\n",
    "print(\"The smallest item in the heap:\")\n",
    "print(heap[0])\n",
    "print(\"----------------------\")\n",
    "print(\"Pop the smallest item in the heap:\")\n",
    "heapq.heappop(heap)\n",
    "for a in heap:\n",
    "    print(a)"
   ]
  },
  {
   "cell_type": "code",
   "execution_count": 6,
   "metadata": {},
   "outputs": [
    {
     "name": "stdout",
     "output_type": "stream",
     "text": [
      "4\n",
      "2\n"
     ]
    }
   ],
   "source": [
    "#Question 45\n",
    "import bisect\n",
    "def index(a, x):\n",
    "    i = bisect.bisect_left(a, x)\n",
    "    return i\n",
    "a = [1,2,3,4]\n",
    "print(index(a, 6))\n",
    "print(index(a, 3))"
   ]
  },
  {
   "cell_type": "code",
   "execution_count": 7,
   "metadata": {},
   "outputs": [
    {
     "name": "stdout",
     "output_type": "stream",
     "text": [
      "0 1 2 3 "
     ]
    }
   ],
   "source": [
    "#Question 46\n",
    "import queue\n",
    "q = queue.Queue()\n",
    "for x in range(4):\n",
    "    q.put(str(x))\n",
    "while not q.empty():\n",
    "    print(q.get(), end=\" \")"
   ]
  },
  {
   "cell_type": "code",
   "execution_count": 8,
   "metadata": {},
   "outputs": [
    {
     "name": "stdout",
     "output_type": "stream",
     "text": [
      "1.8333333333333333\n",
      "1.5\n"
     ]
    }
   ],
   "source": [
    "#Question 47\n",
    "def harmonic_sum(n):\n",
    "    if n < 2:\n",
    "        return 1\n",
    "    else:\n",
    "        return 1 / n + (harmonic_sum(n - 1))\n",
    "print(harmonic_sum(3))\n",
    "print(harmonic_sum(2))"
   ]
  },
  {
   "cell_type": "code",
   "execution_count": 1,
   "metadata": {},
   "outputs": [
    {
     "name": "stdout",
     "output_type": "stream",
     "text": [
      "Original array:\n",
      "[[6. 6. 6. 6. 6.]\n",
      " [6. 6. 6. 6. 6.]\n",
      " [6. 6. 6. 6. 6.]\n",
      " [6. 6. 6. 6. 6.]\n",
      " [6. 6. 6. 6. 6.]]\n",
      "1 on the border and 0 inside in the array\n",
      "[[6. 6. 6. 6. 6.]\n",
      " [6. 0. 0. 0. 6.]\n",
      " [6. 0. 0. 0. 6.]\n",
      " [6. 0. 0. 0. 6.]\n",
      " [6. 6. 6. 6. 6.]]\n"
     ]
    }
   ],
   "source": [
    "#Question 48\n",
    "import numpy as np\n",
    "x = 5+np.ones((5,5))\n",
    "print(\"Original array:\")\n",
    "print(x)\n",
    "print(\"1 on the border and 0 inside in the array\")\n",
    "x[1:-1,1:-1] = 0\n",
    "print(x)"
   ]
  },
  {
   "cell_type": "code",
   "execution_count": 2,
   "metadata": {},
   "outputs": [
    {
     "name": "stdout",
     "output_type": "stream",
     "text": [
      "Checkerboard pattern:\n",
      "[[3 9 3 9 3 9 3 9]\n",
      " [9 3 9 3 9 3 9 3]\n",
      " [3 9 3 9 3 9 3 9]\n",
      " [9 3 9 3 9 3 9 3]\n",
      " [3 9 3 9 3 9 3 9]\n",
      " [9 3 9 3 9 3 9 3]\n",
      " [3 9 3 9 3 9 3 9]\n",
      " [9 3 9 3 9 3 9 3]]\n"
     ]
    }
   ],
   "source": [
    "#Question 49\n",
    "import numpy as np\n",
    "x = np.ones((3,3))\n",
    "print(\"Checkerboard pattern:\")\n",
    "x = 3+np.zeros((8,8),dtype=int)\n",
    "x[1::2,::2] = 9\n",
    "x[::2,1::2] = 9\n",
    "print(x)"
   ]
  },
  {
   "cell_type": "code",
   "execution_count": 3,
   "metadata": {},
   "outputs": [
    {
     "name": "stdout",
     "output_type": "stream",
     "text": [
      "[[0. 0. 0. 0.]\n",
      " [0. 0. 0. 0.]\n",
      " [0. 0. 0. 0.]]\n",
      "[[6 6 6]\n",
      " [6 6 6]\n",
      " [6 6 6]]\n"
     ]
    }
   ],
   "source": [
    "#Question 50\n",
    "import numpy as np\n",
    "x = np.empty((3,4))\n",
    "print(x)\n",
    "y = np.full((3,3),6)\n",
    "print(y)"
   ]
  },
  {
   "cell_type": "code",
   "execution_count": 4,
   "metadata": {},
   "outputs": [
    {
     "name": "stdout",
     "output_type": "stream",
     "text": [
      "Values in Fahrenheit degrees:\n",
      "[ 0.   12.   45.21 34.   99.91]\n",
      "Values in  Centigrade degrees:\n",
      "[-17.77777778 -11.11111111   7.33888889   1.11111111  37.72777778]\n"
     ]
    }
   ],
   "source": [
    "#Question 51\n",
    "import numpy as np\n",
    "fvalues = [0, 12, 45.21, 34, 99.91]\n",
    "len=len(fvalues)\n",
    "F = np.array(fvalues)\n",
    "print(\"Values in Fahrenheit degrees:\")\n",
    "print(F)\n",
    "print(\"Values in  Centigrade degrees:\")\n",
    "print(len*F/9 - len*32/9)"
   ]
  },
  {
   "cell_type": "code",
   "execution_count": 5,
   "metadata": {},
   "outputs": [
    {
     "name": "stdout",
     "output_type": "stream",
     "text": [
      "Original array:x  [1.70710678+0.70710678j]\n",
      "Real part of the array:\n",
      "[1.70710678]\n",
      "Imaginary part of the array:\n",
      "[0.70710678]\n"
     ]
    }
   ],
   "source": [
    "#Question 52\n",
    "import numpy as np\n",
    "x = np.sqrt([1+0j])\n",
    "y = np.sqrt([0+1j])\n",
    "print(\"Original array:x \",x+y)\n",
    "print(\"Real part of the array:\")\n",
    "print(x.real+y.real)\n",
    "print(\"Imaginary part of the array:\")\n",
    "print(x.imag+y.imag)"
   ]
  },
  {
   "cell_type": "code",
   "execution_count": 6,
   "metadata": {},
   "outputs": [
    {
     "name": "stdout",
     "output_type": "stream",
     "text": [
      "Array1:  [ 0 10 20 40 60]\n",
      "Array2:  [0, 40]\n",
      "Compare each element of array1 and array2\n",
      "[ True False False  True False]\n"
     ]
    }
   ],
   "source": [
    "#Question 53\n",
    "import numpy as np\n",
    "array1 = np.array([0, 10, 20, 40, 60])\n",
    "print(\"Array1: \",array1)\n",
    "array2 = [0, 40]\n",
    "print(\"Array2: \",array2)\n",
    "print(\"Compare each element of array1 and array2\")\n",
    "print(np.isin(array1, array2))"
   ]
  },
  {
   "cell_type": "code",
   "execution_count": 7,
   "metadata": {},
   "outputs": [
    {
     "name": "stdout",
     "output_type": "stream",
     "text": [
      "Array1:  [ 0 10 20 40 60]\n",
      "Array2:  [10, 30, 40]\n",
      "Common values between two arrays:\n",
      "[10 40]\n"
     ]
    }
   ],
   "source": [
    "#Question 54\n",
    "import numpy as np\n",
    "array1 = np.array([0, 10, 20, 40, 60])\n",
    "print(\"Array1: \",array1)\n",
    "array2 = [10, 30, 40]\n",
    "print(\"Array2: \",array2)\n",
    "print(\"Common values between two arrays:\")\n",
    "print(np.intersect1d(array1, array2))"
   ]
  },
  {
   "cell_type": "code",
   "execution_count": 8,
   "metadata": {},
   "outputs": [
    {
     "name": "stdout",
     "output_type": "stream",
     "text": [
      "Original array:\n",
      "[10 10 20 20 30 30]\n",
      "Unique elements of the above array:\n",
      "[10 20 30]\n",
      "Original array:\n",
      "[[1 1]\n",
      " [2 3]]\n",
      "Unique elements of the above array:\n",
      "[1 2 3]\n"
     ]
    }
   ],
   "source": [
    "#Question 55\n",
    "import numpy as np\n",
    "x = np.array([10, 10, 20, 20, 30, 30])\n",
    "print(\"Original array:\")\n",
    "print(x)\n",
    "print(\"Unique elements of the above array:\")\n",
    "print(np.unique(x))\n",
    "x = np.array([[1, 1], [2, 3]])\n",
    "print(\"Original array:\")\n",
    "print(x)\n",
    "print(\"Unique elements of the above array:\")\n",
    "print(np.unique(x))"
   ]
  },
  {
   "cell_type": "code",
   "execution_count": 9,
   "metadata": {},
   "outputs": [
    {
     "name": "stdout",
     "output_type": "stream",
     "text": [
      "Array1:  [ 0 10 20 40 60 80]\n",
      "Array2:  [10, 30, 40, 50, 70]\n",
      "Unique values that are in only one (not both) of the input arrays:\n",
      "[ 0 20 30 50 60 70 80]\n"
     ]
    }
   ],
   "source": [
    "#Question 56\n",
    "import numpy as np\n",
    "array1 = np.array([0, 10, 20, 40, 60, 80])\n",
    "print(\"Array1: \",array1)\n",
    "array2 = [10, 30, 40, 50, 70]\n",
    "print(\"Array2: \",array2)\n",
    "print(\"Unique values that are in only one (not both) of the input arrays:\")\n",
    "print(np.setxor1d(array1, array2))"
   ]
  },
  {
   "cell_type": "code",
   "execution_count": 10,
   "metadata": {},
   "outputs": [
    {
     "name": "stdout",
     "output_type": "stream",
     "text": [
      "False\n",
      "True\n",
      "False\n",
      "True\n"
     ]
    }
   ],
   "source": [
    "#Question 57\n",
    "import numpy as np\n",
    "print(np.all([[True,False],[True,False]]))\n",
    "print(np.all([[True,True],[True,True]]))\n",
    "print(np.all([1, 50, 0, -50]))\n",
    "print(np.all([3, 20, -5]))"
   ]
  },
  {
   "cell_type": "code",
   "execution_count": 13,
   "metadata": {},
   "outputs": [
    {
     "name": "stdout",
     "output_type": "stream",
     "text": [
      "False\n",
      "True\n",
      "True\n",
      "True\n"
     ]
    }
   ],
   "source": [
    "#Question 58\n",
    "import numpy as np\n",
    "print(np.any([[False,False],[False,False]]))\n",
    "print(np.any([[True,True],[True,True]]))\n",
    "print(np.any([10, 20, 0, -50]))\n",
    "print(np.any([10, 20, -50]))\n"
   ]
  },
  {
   "cell_type": "code",
   "execution_count": 14,
   "metadata": {},
   "outputs": [
    {
     "name": "stdout",
     "output_type": "stream",
     "text": [
      "Original array\n",
      "[1, 2, 3, 4]\n",
      "Repeating 2 times\n",
      "[1 2 3 4 1 2 3 4]\n",
      "Repeating 3 times\n",
      "[1 2 3 4 1 2 3 4 1 2 3 4]\n"
     ]
    }
   ],
   "source": [
    "#Question 59\n",
    "import numpy as np\n",
    "a = [1, 2, 3, 4]\n",
    "print(\"Original array\")\n",
    "print(a)\n",
    "print(\"Repeating 2 times\")\n",
    "x = np.tile(a, 2)\n",
    "print(x)\n",
    "print(\"Repeating 3 times\")\n",
    "x = np.tile(a, 3)\n",
    "print(x)"
   ]
  },
  {
   "cell_type": "code",
   "execution_count": 15,
   "metadata": {},
   "outputs": [
    {
     "name": "stdout",
     "output_type": "stream",
     "text": [
      "Original array:  [1 2 3 4 5 6]\n",
      "Maximum Values:  5\n",
      "Minimum Values:  0\n"
     ]
    }
   ],
   "source": [
    "#Question 60\n",
    "import numpy as np\n",
    "x = np.array([1, 2, 3, 4, 5, 6])\n",
    "print(\"Original array: \",x)\n",
    "print(\"Maximum Values: \",np.argmax(x))\n",
    "print(\"Minimum Values: \",np.argmin(x))"
   ]
  },
  {
   "cell_type": "code",
   "execution_count": 16,
   "metadata": {},
   "outputs": [
    {
     "name": "stdout",
     "output_type": "stream",
     "text": [
      "Array a:  [1 2]\n",
      "Array b:  [4 5]\n",
      "a > b [False False]\n",
      "a >= b [False False]\n",
      "a < b [ True  True]\n",
      "a <= b [ True  True]\n"
     ]
    }
   ],
   "source": [
    "#Question 61\n",
    "import numpy as np\n",
    "a = np.array([1, 2])\n",
    "b = np.array([4, 5])\n",
    "print(\"Array a: \",a)\n",
    "print(\"Array b: \",b)\n",
    "print(\"a > b\",np.greater(a, b))\n",
    "print(\"a >= b\",np.greater_equal(a, b))\n",
    "print(\"a < b\",np.less(a, b))\n",
    "print(\"a <= b\",np.less_equal(a, b))"
   ]
  },
  {
   "cell_type": "code",
   "execution_count": 6,
   "metadata": {},
   "outputs": [
    {
     "name": "stdout",
     "output_type": "stream",
     "text": [
      "Original array:\n",
      "[[4 6]\n",
      " [2 1]]\n",
      "Sort the array along the first axis:\n",
      "[[2 1]\n",
      " [4 6]]\n",
      "Sort the array along the last axis:\n",
      "[[4 6]\n",
      " [1 2]]\n"
     ]
    }
   ],
   "source": [
    "#Question 62\n",
    "import numpy as np\n",
    "a = np.array([[4,6],[2,1]])\n",
    "print(\"Original array:\")\n",
    "print(a)\n",
    "print(\"Sort the array along the first axis:\")\n",
    "print(np.sort(a, axis=0))\n",
    "print(\"Sort the array along the last axis:\")\n",
    "print(np.sort(a))\n"
   ]
  },
  {
   "cell_type": "code",
   "execution_count": 7,
   "metadata": {},
   "outputs": [
    {
     "name": "stdout",
     "output_type": "stream",
     "text": [
      "[1 3 2 4 0]\n"
     ]
    }
   ],
   "source": [
    "#Question 63\n",
    "import numpy as np\n",
    "first_names =('Margery', 'Betsey', 'Shelley', 'Lanell', 'Genesis')\n",
    "last_names = ('Woolum', 'Battle', 'Plotner', 'Brien', 'Stahl')\n",
    "x = np.lexsort((first_names, last_names))\n",
    "print(x)\n"
   ]
  },
  {
   "cell_type": "code",
   "execution_count": 8,
   "metadata": {},
   "outputs": [
    {
     "name": "stdout",
     "output_type": "stream",
     "text": [
      "Original array: \n",
      "[[ 0 10 20]\n",
      " [20 30 40]]\n",
      "Values bigger than 10 = [20 20 30 40]\n",
      "Their indices are  (array([0, 1, 1, 1], dtype=int64), array([2, 0, 1, 2], dtype=int64))\n"
     ]
    }
   ],
   "source": [
    "#Question 64\n",
    "import numpy as np\n",
    "x = np.array([[0, 10, 20], [20, 30, 40]])\n",
    "print(\"Original array: \")\n",
    "print(x)\n",
    "print(\"Values bigger than 10 =\", x[x>10])\n",
    "print(\"Their indices are \", np.nonzero(x > 10))"
   ]
  },
  {
   "cell_type": "code",
   "execution_count": 9,
   "metadata": {},
   "outputs": [
    {
     "name": "stdout",
     "output_type": "stream",
     "text": [
      "128 bytes\n"
     ]
    }
   ],
   "source": [
    "#Question 65\n",
    "import numpy as np\n",
    "n = np.zeros((4,4))\n",
    "print(\"%d bytes\" % (n.size * n.itemsize))"
   ]
  },
  {
   "cell_type": "code",
   "execution_count": 10,
   "metadata": {},
   "outputs": [
    {
     "name": "stdout",
     "output_type": "stream",
     "text": [
      "Create an array of zeros\n",
      "Default type is float\n",
      "[[0. 0.]]\n",
      "Type changes to int\n",
      "[[0 0]]\n",
      "Create an array of ones\n",
      "Default type is float\n",
      "[[1. 1.]]\n",
      "Type changes to int\n",
      "[[1 1]]\n"
     ]
    }
   ],
   "source": [
    "#Question 66\n",
    "import numpy as np\n",
    "print(\"Create an array of zeros\")\n",
    "x = np.zeros((1,2))\n",
    "print(\"Default type is float\")\n",
    "print(x)\n",
    "print(\"Type changes to int\")\n",
    "x = np.zeros((1,2), dtype = np.int)\n",
    "print(x)\n",
    "print(\"Create an array of ones\")\n",
    "y= np.ones((1,2))\n",
    "print(\"Default type is float\")\n",
    "print(y)\n",
    "print(\"Type changes to int\")\n",
    "y = np.ones((1,2), dtype = np.int)\n",
    "print(y)\n"
   ]
  },
  {
   "cell_type": "code",
   "execution_count": 11,
   "metadata": {},
   "outputs": [
    {
     "name": "stdout",
     "output_type": "stream",
     "text": [
      "6 rows and 0 columns (6,)\n",
      "(3, 3) -> 3 rows and 3 columns \n",
      "y [[1 2 3]\n",
      " [4 5 6]\n",
      " [7 8 9]]\n",
      "Change array shape to (3, 3) -> 3 rows and 3 columns \n",
      "[[1 2 3]\n",
      " [4 5 6]\n",
      " [7 8 9]]\n"
     ]
    }
   ],
   "source": [
    "#Question 67\n",
    "import numpy as np\n",
    "x = np.array([1, 2, 3, 4, 5, 6])\n",
    "print(\"6 rows and 0 columns\",x.shape)\n",
    "y = np.array([[1, 2, 3],[4, 5, 6],[7,8,9]])\n",
    "print(\"(3, 3) -> 3 rows and 3 columns \")\n",
    "print(\"y\",y)\n",
    "x = np.array([1,2,3,4,5,6,7,8,9])\n",
    "print(\"Change array shape to (3, 3) -> 3 rows and 3 columns \")\n",
    "x.shape = (3, 3)\n",
    "print(x)"
   ]
  },
  {
   "cell_type": "code",
   "execution_count": 12,
   "metadata": {},
   "outputs": [
    {
     "name": "stdout",
     "output_type": "stream",
     "text": [
      "Reshape 3x2-\n",
      "[[1 2]\n",
      " [3 4]\n",
      " [5 6]]\n",
      "Reshape 2x3-\n",
      "[[1 2 3]\n",
      " [4 5 6]]\n"
     ]
    }
   ],
   "source": [
    "#Question 68\n",
    "import numpy as np\n",
    "x = np.array([1, 2, 3, 4, 5, 6])\n",
    "y = np.reshape(x,(3,2))\n",
    "print(\"Reshape 3x2-\")\n",
    "print(y)\n",
    "z = np.reshape(x,(2,3))\n",
    "print(\"Reshape 2x3-\")\n",
    "print(z)"
   ]
  },
  {
   "cell_type": "code",
   "execution_count": 13,
   "metadata": {},
   "outputs": [
    {
     "name": "stdout",
     "output_type": "stream",
     "text": [
      "[[2 2 2 2 2]\n",
      " [2 2 2 2 2]\n",
      " [2 2 2 2 2]]\n",
      "[[2 2 2 2 2]\n",
      " [2 2 2 2 2]\n",
      " [2 2 2 2 2]]\n"
     ]
    }
   ],
   "source": [
    "#Question 69\n",
    "import numpy as np\n",
    "x = np.full((3, 5),2)\n",
    "print(x)\n",
    "y = 1+np.ones([3, 5],dtype=np.uint)\n",
    "print(y)\n"
   ]
  },
  {
   "cell_type": "code",
   "execution_count": 14,
   "metadata": {},
   "outputs": [
    {
     "name": "stdout",
     "output_type": "stream",
     "text": [
      "[[1. 0. 0.]\n",
      " [0. 1. 0.]\n",
      " [0. 0. 1.]]\n"
     ]
    }
   ],
   "source": [
    "#Question 70\n",
    "import numpy as np\n",
    "x = np.eye(3)\n",
    "print(x)"
   ]
  },
  {
   "cell_type": "code",
   "execution_count": 15,
   "metadata": {},
   "outputs": [
    {
     "name": "stdout",
     "output_type": "stream",
     "text": [
      "Original array: [ 1  2  3  4  5  6  7  8  9 10 11 12 13 14]\n",
      "After splitting:\n",
      "[array([1, 2]), array([3, 4, 5, 6, 7]), array([ 8,  9, 10, 11, 12, 13, 14])]\n"
     ]
    }
   ],
   "source": [
    "#Question 71\n",
    "import numpy as np\n",
    "x = np.arange(1, 15)\n",
    "print(\"Original array:\",x)\n",
    "print(\"After splitting:\")\n",
    "print(np.split(x, [2, 7]))\n"
   ]
  },
  {
   "cell_type": "code",
   "execution_count": 16,
   "metadata": {},
   "outputs": [
    {
     "name": "stdout",
     "output_type": "stream",
     "text": [
      "Original array: [[ 0  1  2  3]\n",
      " [ 4  5  6  7]\n",
      " [ 8  9 10 11]\n",
      " [12 13 14 15]]\n",
      "After splitting horizontally:\n",
      "[array([[ 0,  1],\n",
      "       [ 4,  5],\n",
      "       [ 8,  9],\n",
      "       [12, 13]]), array([[ 2,  3],\n",
      "       [ 6,  7],\n",
      "       [10, 11],\n",
      "       [14, 15]]), array([], shape=(4, 0), dtype=int32)]\n"
     ]
    }
   ],
   "source": [
    "#Question 72\n",
    "import numpy as np\n",
    "x = np.arange(16).reshape((4, 4))\n",
    "print(\"Original array:\",x)\n",
    "print(\"After splitting horizontally:\")\n",
    "print(np.split(x, [2, 6],axis=1))\n"
   ]
  },
  {
   "cell_type": "code",
   "execution_count": 17,
   "metadata": {},
   "outputs": [
    {
     "name": "stdout",
     "output_type": "stream",
     "text": [
      "Original array: [[0. 0. 0. 0. 0.]\n",
      " [0. 0. 0. 0. 0.]\n",
      " [0. 0. 0. 0. 0.]\n",
      " [0. 0. 0. 0. 0.]\n",
      " [0. 0. 0. 0. 0.]]\n",
      "Row values ranging from 0 to 4. [[0. 1. 2. 3. 4.]\n",
      " [0. 1. 2. 3. 4.]\n",
      " [0. 1. 2. 3. 4.]\n",
      " [0. 1. 2. 3. 4.]\n",
      " [0. 1. 2. 3. 4.]]\n"
     ]
    }
   ],
   "source": [
    "#Question 73\n",
    "import numpy as np\n",
    "x = np.zeros((5,5))\n",
    "print(\"Original array:\",x)\n",
    "x += np.arange(5)\n",
    "print(\"Row values ranging from 0 to 4.\",x)"
   ]
  },
  {
   "cell_type": "code",
   "execution_count": 18,
   "metadata": {},
   "outputs": [
    {
     "name": "stdout",
     "output_type": "stream",
     "text": [
      "[(1, 2., b'Albert Einstein') (2, 2., b'Edmond Halley')\n",
      " (3, 3., b'Gertrude B. Elion')]\n"
     ]
    }
   ],
   "source": [
    "#Question 74\n",
    "import numpy as np\n",
    "x = np.zeros((3,), dtype=('i4,f4,a40'))\n",
    "new_data = [(1, 2., \"Albert Einstein\"), (2, 2., \"Edmond Halley\"), (3, 3., \"Gertrude B. Elion\")]\n",
    "x[:] = new_data\n",
    "print(x)"
   ]
  },
  {
   "cell_type": "code",
   "execution_count": 19,
   "metadata": {},
   "outputs": [
    {
     "name": "stdout",
     "output_type": "stream",
     "text": [
      "Original array: [-1 -4  0  2  3  4  5 -6]\n",
      "Replace the negative values of the said array with 0: [0 0 0 2 3 4 5 0]\n"
     ]
    }
   ],
   "source": [
    "#Question 75\n",
    "import numpy as np\n",
    "x = np.array([-1, -4, 0, 2, 3, 4, 5, -6])\n",
    "print(\"Original array:\",x)\n",
    "x[x < 0] = 0\n",
    "print(\"Replace the negative values of the said array with 0:\",x)"
   ]
  },
  {
   "cell_type": "code",
   "execution_count": 21,
   "metadata": {},
   "outputs": [
    {
     "data": {
      "image/png": "[encoded data removed]",
      "text/plain": [
       "<Figure size 432x288 with 1 Axes>"
      ]
     },
     "metadata": {},
     "output_type": "display_data"
    }
   ],
   "source": [
    "#Question 76\n",
    "import numpy as np    \n",
    "import matplotlib.pyplot as plt\n",
    "plt.hist([1, 2, 1], bins=[0, 1, 2, 3, 5])\n",
    "plt.show()"
   ]
  },
  {
   "cell_type": "code",
   "execution_count": 7,
   "metadata": {},
   "outputs": [
    {
     "name": "stderr",
     "output_type": "stream",
     "text": [
      "C:\\Users\\Neha\\Anaconda3\\lib\\site-packages\\matplotlib\\figure.py:459: UserWarning: matplotlib is currently using a non-GUI backend, so cannot show the figure\n",
      "  \"matplotlib is currently using a non-GUI backend, \"\n"
     ]
    },
    {
     "data": {
      "image/png": "[encoded data removed]",
      "text/plain": [
       "<Figure size 432x288 with 1 Axes>"
      ]
     },
     "metadata": {},
     "output_type": "display_data"
    }
   ],
   "source": [
    "#Question 77\n",
    "import numpy as np    \n",
    "import matplotlib.pyplot as plt\n",
    "arr = np.random.randint(1, 50, 10)\n",
    "y, x = np.histogram(arr, bins=np.arange(51))\n",
    "fig, ax = plt.subplots()\n",
    "ax.plot(x[:-1], y)\n",
    "fig.show()\n"
   ]
  },
  {
   "cell_type": "code",
   "execution_count": 8,
   "metadata": {},
   "outputs": [
    {
     "name": "stdout",
     "output_type": "stream",
     "text": [
      "Original array: [[ 0  1  2  3]\n",
      " [ 4  5  6  7]\n",
      " [ 8  9 10 11]\n",
      " [12 13 14 15]]\n",
      "\n",
      "Extracted data: Second row [4 5 6 7]\n"
     ]
    }
   ],
   "source": [
    "#Question 78\n",
    "import numpy as np\n",
    "arra_data = np.arange(0,16).reshape((4, 4))\n",
    "print(\"Original array:\",arra_data)\n",
    "print(\"\\nExtracted data: Second row\",arra_data[1,:])"
   ]
  },
  {
   "cell_type": "code",
   "execution_count": 9,
   "metadata": {},
   "outputs": [
    {
     "name": "stdout",
     "output_type": "stream",
     "text": [
      "Original array: [[ 0  1  2  3]\n",
      " [ 4  5  6  7]\n",
      " [ 8  9 10 11]\n",
      " [12 13 14 15]]\n",
      "\n",
      "Extracted data: First element of the second row and fourth element of fourth row  \n",
      "[ 4 15]\n"
     ]
    }
   ],
   "source": [
    "#Question 79\n",
    "import numpy as np\n",
    "arra_data = np.arange(0,16).reshape((4, 4))\n",
    "print(\"Original array:\",arra_data)\n",
    "print(\"\\nExtracted data: First element of the second row and fourth element of fourth row  \")\n",
    "print(arra_data[[1,3], [0,3]])"
   ]
  },
  {
   "cell_type": "code",
   "execution_count": 10,
   "metadata": {},
   "outputs": [
    {
     "name": "stdout",
     "output_type": "stream",
     "text": [
      "Array-A\n",
      "[[1. 1. 1.]\n",
      " [1. 1. 1.]\n",
      " [1. 1. 1.]]\n",
      "Array-B\n",
      "[0 1 2]\n",
      "A + B: [[1. 2. 3.]\n",
      " [1. 2. 3.]\n",
      " [1. 2. 3.]]\n"
     ]
    }
   ],
   "source": [
    "#Question 80\n",
    "import numpy as np\n",
    "A = np.ones((3,3))\n",
    "B = np.arange(3)\n",
    "print(\"Array-A\")\n",
    "print(A)\n",
    "print(\"Array-B\")\n",
    "print(B)\n",
    "new_array = A + B\n",
    "print(\"A + B:\",new_array)"
   ]
  },
  {
   "cell_type": "code",
   "execution_count": 11,
   "metadata": {},
   "outputs": [
    {
     "name": "stdout",
     "output_type": "stream",
     "text": [
      "Original array:\n",
      "[24 27 30 29 18 14]\n",
      "\n",
      "Copy of the said array:\n",
      "[24 27 30 29 18 14]\n"
     ]
    }
   ],
   "source": [
    "#Question 81\n",
    "import numpy as np\n",
    "x = np.array([24, 27, 30, 29, 18, 14])\n",
    "print(\"Original array:\")\n",
    "print(x)\n",
    "y = np.empty_like (x)\n",
    "y[:] = x\n",
    "print(\"\\nCopy of the said array:\")\n",
    "print(y)"
   ]
  },
  {
   "cell_type": "code",
   "execution_count": 12,
   "metadata": {},
   "outputs": [
    {
     "name": "stdout",
     "output_type": "stream",
     "text": [
      "Original array:\n",
      "[[ 0  1  2  3  4  5  6  7  8]\n",
      " [ 9 10 11 12 13 14 15 16 17]\n",
      " [18 19 20 21 22 23 24 25 26]\n",
      " [27 28 29 30 31 32 33 34 35]]\n",
      "\n",
      "Sum of all columns:\n",
      "[54 58 62 66 70 74 78 82 86]\n"
     ]
    }
   ],
   "source": [
    "#Question 82\n",
    "import numpy as np\n",
    "num = np.arange(36)\n",
    "arr1 = np.reshape(num, [4,9])\n",
    "print(\"Original array:\")\n",
    "print(arr1)\n",
    "result  = arr1.sum(axis=0)\n",
    "print(\"\\nSum of all columns:\")\n",
    "print(result)"
   ]
  },
  {
   "cell_type": "code",
   "execution_count": 13,
   "metadata": {},
   "outputs": [
    {
     "name": "stdout",
     "output_type": "stream",
     "text": [
      "Original array:\n",
      "[[10. 20. 30.]\n",
      " [40. 50. nan]\n",
      " [nan  6. nan]\n",
      " [nan nan nan]]\n",
      "Averages without NaNs along the said array: [20. 45.  6. nan]\n"
     ]
    }
   ],
   "source": [
    "#Question 83\n",
    "import numpy as np\n",
    "arr1 = np.array([[10, 20 ,30], [40, 50, np.nan], [np.nan, 6, np.nan], [np.nan, np.nan, np.nan]])\n",
    "print(\"Original array:\")\n",
    "print(arr1)\n",
    "temp = np.ma.masked_array(arr1,np.isnan(arr1))\n",
    "result = np.mean(temp, axis=1)\n",
    "print(\"Averages without NaNs along the said array:\",result.filled(np.nan))"
   ]
  },
  {
   "cell_type": "code",
   "execution_count": 14,
   "metadata": {},
   "outputs": [
    {
     "name": "stdout",
     "output_type": "stream",
     "text": [
      "Original arrays:\n",
      "[ 10 -10  10 -10 -10  10]\n",
      "[0.85 0.45 0.9  0.8  0.12 0.6 ]\n",
      "Number of instances of a value occurring: 3\n"
     ]
    }
   ],
   "source": [
    "#Question 84\n",
    "import numpy as np\n",
    "x = np.array([10,-10,10,-10,-10,10])\n",
    "y = np.array([.85,.45,.9,.8,.12,.6])\n",
    "print(\"Original arrays:\")\n",
    "print(x)\n",
    "print(y)\n",
    "result = np.sum((x == 10) & (y > .5))\n",
    "print(\"Number of instances of a value occurring:\",result)"
   ]
  },
  {
   "cell_type": "code",
   "execution_count": 15,
   "metadata": {},
   "outputs": [
    {
     "name": "stdout",
     "output_type": "stream",
     "text": [
      "\n",
      "Original dictionary: {'column0': {'a': 1, 'b': 0.0, 'c': 0.0, 'd': 2.0}, 'column1': {'a': 3.0, 'b': 1, 'c': 0.0, 'd': -1.0}, 'column2': {'a': 4, 'b': 1, 'c': 5.0, 'd': -1.0}, 'column3': {'a': 3.0, 'b': -1.0, 'c': -1.0, 'd': -1.0}}\n",
      "Type:  <class 'dict'>\n",
      "\n",
      "ndarray:\n",
      "[[ 1.  0.  0.  2.]\n",
      " [ 3.  1.  0. -1.]\n",
      " [ 4.  1.  5. -1.]\n",
      " [ 3. -1. -1. -1.]]\n",
      "Type:  <class 'numpy.ndarray'>\n"
     ]
    }
   ],
   "source": [
    "#Question 85\n",
    "import numpy as np\n",
    "from ast import literal_eval\n",
    "dict = \"\"\"{\"column0\":{\"a\":1,\"b\":0.0,\"c\":0.0,\"d\":2.0},\n",
    "   \"column1\":{\"a\":3.0,\"b\":1,\"c\":0.0,\"d\":-1.0},\n",
    "   \"column2\":{\"a\":4,\"b\":1,\"c\":5.0,\"d\":-1.0},\n",
    "   \"column3\":{\"a\":3.0,\"b\":-1.0,\"c\":-1.0,\"d\":-1.0}\n",
    "  }\"\"\"\n",
    "t = literal_eval(dict)\n",
    "print(\"\\nOriginal dictionary:\",t)\n",
    "\n",
    "print(\"Type: \",type(t))\n",
    "result = np.array([[v[j] for j in ['a', 'b', 'c', 'd']] for k, v in t.items()])\n",
    "print(\"\\nndarray:\")\n",
    "print(result)\n",
    "print(\"Type: \",type(result))\n"
   ]
  },
  {
   "cell_type": "code",
   "execution_count": 1,
   "metadata": {},
   "outputs": [
    {
     "name": "stdout",
     "output_type": "stream",
     "text": [
      "Original array:\n",
      "[[ 1  1  0]\n",
      " [ 0  0  0]\n",
      " [ 0  2  3]\n",
      " [ 0  0  0]\n",
      " [ 0 -1  1]\n",
      " [ 0  0  0]]\n",
      "\n",
      "Non-zero unique rows:\n",
      "[[ 1  1  0]\n",
      " [ 0  2  3]\n",
      " [ 0 -1  1]]\n"
     ]
    }
   ],
   "source": [
    "#Question 86\n",
    "import numpy as np\n",
    "arr = np.array([[ 1,  1,  0],\n",
    "                 [ 0,  0,  0],\n",
    "                 [ 0,  2,  3],\n",
    "                 [ 0,  0,  0],\n",
    "                 [ 0, -1,  1],\n",
    "                 [ 0,  0,  0]])\n",
    "\n",
    "print(\"Original array:\")\n",
    "print(arr)\n",
    "temp = {(0, 0, 0)}\n",
    "result = []\n",
    "for id, row in enumerate(map(tuple, arr)):\n",
    "    if row not in temp:\n",
    "        result.append(id)\n",
    "print(\"\\nNon-zero unique rows:\")\n",
    "print(arr[result])\n"
   ]
  },
  {
   "cell_type": "code",
   "execution_count": 2,
   "metadata": {},
   "outputs": [
    {
     "name": "stdout",
     "output_type": "stream",
     "text": [
      "First array:\n",
      "[1.+2.j 3.+4.j]\n",
      "Second array:\n",
      "[5.+6.j 7.+8.j]\n",
      "Product of above two arrays:\n",
      "(70-8j)\n"
     ]
    }
   ],
   "source": [
    "#Question 87\n",
    "import numpy as np\n",
    "x = np.array([1+2j,3+4j])\n",
    "print(\"First array:\")\n",
    "print(x)\n",
    "y = np.array([5+6j,7+8j])\n",
    "print(\"Second array:\")\n",
    "print(y)\n",
    "z = np.vdot(x, y)\n",
    "print(\"Product of above two arrays:\")\n",
    "print(z)"
   ]
  },
  {
   "cell_type": "code",
   "execution_count": 3,
   "metadata": {},
   "outputs": [
    {
     "name": "stdout",
     "output_type": "stream",
     "text": [
      "Matrices and vectors.\n",
      "x: [[1, 0], [1, 1]]\n",
      "y: [[3, 1], [2, 2]]\n",
      "Matrix product of above two arrays:\n",
      "[[3 1]\n",
      " [5 3]]\n"
     ]
    }
   ],
   "source": [
    "#Question 88\n",
    "import numpy as np\n",
    "x = [[1, 0], [1, 1]]\n",
    "y = [[3, 1], [2, 2]]\n",
    "print(\"Matrices and vectors.\")\n",
    "print(\"x:\",x)\n",
    "print(\"y:\",y)\n",
    "print(\"Matrix product of above two arrays:\")\n",
    "print(np.matmul(x, y))\n"
   ]
  },
  {
   "cell_type": "code",
   "execution_count": 4,
   "metadata": {},
   "outputs": [
    {
     "name": "stdout",
     "output_type": "stream",
     "text": [
      "   2\n",
      "1 x + 2 x + 3\n",
      "   4      3     2\n",
      "1 x - 11 x + 9 x + 11 x - 10\n",
      "\n",
      "Roots of Polynomials is : [-1.+1.41421356j -1.-1.41421356j]\n",
      "\n",
      "Roots of Polynomials is : [10.+0.0000000e+00j -1.+0.0000000e+00j  1.+9.6357437e-09j\n",
      "  1.-9.6357437e-09j]\n"
     ]
    }
   ],
   "source": [
    "#Question 89\n",
    "import numpy as np\n",
    "p = np.poly1d([1, 2, 3])\n",
    "p1=np.poly1d([1,-11, 9,11,-10])\n",
    "print(p)\n",
    "print(p1)\n",
    "root_p = p.r\n",
    "root_p1=p1.r\n",
    "print(\"\\nRoots of Polynomials is :\", root_p)\n",
    "print(\"\\nRoots of Polynomials is :\", root_p1)"
   ]
  },
  {
   "cell_type": "code",
   "execution_count": 5,
   "metadata": {},
   "outputs": [
    {
     "name": "stdout",
     "output_type": "stream",
     "text": [
      "Inverse sine: [-1.57079633  0.          1.57079633]\n",
      "Inverse cosine: [3.14159265 1.57079633 0.        ]\n",
      "Inverse tangent: [-0.78539816  0.          0.78539816]\n"
     ]
    }
   ],
   "source": [
    "#Question 90\n",
    "import numpy as np\n",
    "x = np.array([-1., 0, 1.])\n",
    "print(\"Inverse sine:\", np.arcsin(x))\n",
    "print(\"Inverse cosine:\", np.arccos(x))\n",
    "print(\"Inverse tangent:\", np.arctan(x))"
   ]
  },
  {
   "cell_type": "code",
   "execution_count": 6,
   "metadata": {},
   "outputs": [
    {
     "name": "stdout",
     "output_type": "stream",
     "text": [
      "Original array: \n",
      "[1 3 5 7 0]\n",
      "Difference between neighboring elements, element-wise of the said array.\n",
      "[ 2  2  2 -7]\n"
     ]
    }
   ],
   "source": [
    "#Question 91\n",
    "import numpy as np\n",
    "x = np.array([1, 3, 5, 7, 0])\n",
    "print(\"Original array: \")\n",
    "print(x)\n",
    "print(\"Difference between neighboring elements, element-wise of the said array.\")\n",
    "print(np.diff(x))\n"
   ]
  },
  {
   "cell_type": "code",
   "execution_count": 7,
   "metadata": {},
   "outputs": [
    {
     "name": "stdout",
     "output_type": "stream",
     "text": [
      "Original flattened array:\n",
      "[[0 1]\n",
      " [2 3]]\n",
      "Maximum value of the above flattened array: 3\n",
      "Minimum value of the above flattened array: 0\n"
     ]
    }
   ],
   "source": [
    "#Question 92\n",
    "import numpy as np\n",
    "a = np.arange(4).reshape((2,2))\n",
    "print(\"Original flattened array:\")\n",
    "print(a)\n",
    "print(\"Maximum value of the above flattened array:\",np.amax(a))\n",
    "print(\"Minimum value of the above flattened array:\",np.amin(a))"
   ]
  },
  {
   "cell_type": "code",
   "execution_count": 8,
   "metadata": {},
   "outputs": [
    {
     "name": "stdout",
     "output_type": "stream",
     "text": [
      "\n",
      "Original array:\n",
      "[[ 0  1  2  3  4  5]\n",
      " [ 6  7  8  9 10 11]]\n",
      "\n",
      "Difference between the maximum and the minimum values of the said array:\n",
      "[5 5]\n"
     ]
    }
   ],
   "source": [
    "#Question 93\n",
    "import numpy as np\n",
    "x = np.arange(12).reshape((2, 6))\n",
    "print(\"\\nOriginal array:\")\n",
    "print(x)\n",
    "r1 = np.ptp(x, 1)\n",
    "r2 = np.amax(x, 1) - np.amin(x, 1)\n",
    "assert np.allclose(r1, r2)\n",
    "print(\"\\nDifference between the maximum and the minimum values of the said array:\")\n",
    "print(r1)"
   ]
  },
  {
   "cell_type": "code",
   "execution_count": 9,
   "metadata": {},
   "outputs": [
    {
     "name": "stdout",
     "output_type": "stream",
     "text": [
      "\n",
      "Original array:\n",
      "[0 1 2 3 4]\n",
      "we [1 2 3 4 5]\n",
      "\n",
      "Weighted average of the said array:\n",
      "2.6666666666666665\n"
     ]
    }
   ],
   "source": [
    "#Question 94\n",
    "import numpy as np\n",
    "x = np.arange(5)\n",
    "print(\"\\nOriginal array:\")\n",
    "print(x)\n",
    "weights = np.arange(1, 6)\n",
    "print(\"we\",weights)\n",
    "r1 = np.average(x, weights=weights)\n",
    "r2 = (x*(weights/weights.sum())).sum()\n",
    "assert np.allclose(r1, r2)\n",
    "print(\"\\nWeighted average of the said array:\")\n",
    "print(r1)\n"
   ]
  },
  {
   "cell_type": "code",
   "execution_count": 10,
   "metadata": {},
   "outputs": [
    {
     "name": "stdout",
     "output_type": "stream",
     "text": [
      "\n",
      "Original array:\n",
      "[0 1 2 3 4 5]\n",
      "\n",
      "Mean:  2.5\n",
      "\n",
      "std:  1\n",
      "\n",
      "variance:  2.9166666666666665\n"
     ]
    }
   ],
   "source": [
    "#Question 95\n",
    "import numpy as np\n",
    "x = np.arange(6)\n",
    "print(\"\\nOriginal array:\")\n",
    "print(x)\n",
    "r1 = np.mean(x)\n",
    "r2 = np.average(x)\n",
    "assert np.allclose(r1, r2)\n",
    "print(\"\\nMean: \", r1)\n",
    "r1 = np.std(x)\n",
    "r2 = np.sqrt(np.mean((x - np.mean(x)) ** 2 ))\n",
    "assert np.allclose(r1, r2)\n",
    "print(\"\\nstd: \", 1)\n",
    "r1= np.var(x)\n",
    "r2 = np.mean((x - np.mean(x)) ** 2 )\n",
    "assert np.allclose(r1, r2)\n",
    "print(\"\\nvariance: \", r1)\n"
   ]
  },
  {
   "cell_type": "code",
   "execution_count": 11,
   "metadata": {},
   "outputs": [
    {
     "name": "stdout",
     "output_type": "stream",
     "text": [
      "\n",
      "Original array1: [0 1 2]\n",
      "\n",
      "Original array1: [2 1 0]\n",
      "\n",
      "Covariance matrix of the said arrays:\n",
      " [[ 1. -1.]\n",
      " [-1.  1.]]\n"
     ]
    }
   ],
   "source": [
    "#Question 96\n",
    "import numpy as np\n",
    "x = np.array([0, 1, 2])\n",
    "y = np.array([2, 1, 0])\n",
    "print(\"\\nOriginal array1:\",x)\n",
    "print(\"\\nOriginal array1:\",y)\n",
    "print(\"\\nCovariance matrix of the said arrays:\\n\",np.cov(x, y))\n"
   ]
  },
  {
   "cell_type": "code",
   "execution_count": 13,
   "metadata": {},
   "outputs": [
    {
     "name": "stdout",
     "output_type": "stream",
     "text": [
      "\n",
      "Original array1: [0 1 3]\n",
      "\n",
      "Original array1: [2 4 5]\n",
      "\n",
      "Cross-correlation of the said arrays:\n",
      " [19]\n"
     ]
    }
   ],
   "source": [
    "#Question 97\n",
    "import numpy as np\n",
    "x = np.array([0, 1, 3])\n",
    "y = np.array([2, 4, 5])\n",
    "print(\"\\nOriginal array1:\",x)\n",
    "print(\"\\nOriginal array1:\",y)\n",
    "print(\"\\nCross-correlation of the said arrays:\\n\",np.correlate(x, y))\n"
   ]
  },
  {
   "cell_type": "code",
   "execution_count": 12,
   "metadata": {},
   "outputs": [
    {
     "name": "stdout",
     "output_type": "stream",
     "text": [
      "\n",
      "Original array1: [0 1 3]\n",
      "\n",
      "Original array1: [2 4 5]\n",
      "\n",
      "Pearson product-moment correlation coefficients of the said arrays:\n",
      " [[1.         0.92857143]\n",
      " [0.92857143 1.        ]]\n"
     ]
    }
   ],
   "source": [
    "#Question 98\n",
    "import numpy as np\n",
    "x = np.array([0, 1, 3])\n",
    "y = np.array([2, 4, 5])\n",
    "print(\"\\nOriginal array1:\",x)\n",
    "print(\"\\nOriginal array1:\",y)\n",
    "print(\"\\nPearson product-moment correlation coefficients of the said arrays:\\n\",np.corrcoef(x, y))\n"
   ]
  },
  {
   "cell_type": "code",
   "execution_count": 14,
   "metadata": {},
   "outputs": [
    {
     "name": "stdout",
     "output_type": "stream",
     "text": [
      "Original array: [0, 1, 6, 1, 4, 1, 2, 2, 7]\n",
      "Number of occurrences of each value in array: \n",
      "[1 3 2 0 1 0 1 1]\n"
     ]
    }
   ],
   "source": [
    "#Question 99\n",
    "import numpy as np\n",
    "arr = [0, 1, 6, 1, 4, 1, 2, 2, 7]\n",
    "print(\"Original array:\",arr)\n",
    "print(\"Number of occurrences of each value in array: \")\n",
    "print(np.bincount(arr))\n"
   ]
  },
  {
   "cell_type": "code",
   "execution_count": 16,
   "metadata": {},
   "outputs": [
    {
     "name": "stdout",
     "output_type": "stream",
     "text": [
      "nums:  [0.5 0.7 1.  1.2 1.3 2.1]\n",
      "bins:  [0 1 2 3]\n",
      "Result: (array([2, 3, 1], dtype=int64), array([0, 1, 2, 3]))\n"
     ]
    },
    {
     "data": {
      "image/png": "[encoded data removed]",
      "text/plain": [
       "<Figure size 432x288 with 1 Axes>"
      ]
     },
     "metadata": {},
     "output_type": "display_data"
    }
   ],
   "source": [
    "#Question 100\n",
    "import numpy as np\n",
    "import matplotlib.pyplot as plt\n",
    "nums = np.array([0.5, 0.7, 1.0, 1.2, 1.3, 2.1])\n",
    "bins = np.array([0, 1, 2, 3])\n",
    "print(\"nums: \",nums)\n",
    "print(\"bins: \",bins)\n",
    "print(\"Result:\", np.histogram(nums, bins))\n",
    "plt.hist(nums, bins=bins)\n",
    "plt.show()"
   ]
  },
  {
   "cell_type": "code",
   "execution_count": 17,
   "metadata": {},
   "outputs": [
    {
     "name": "stdout",
     "output_type": "stream",
     "text": [
      "Add two Series:\n",
      "0     3\n",
      "1     7\n",
      "2    11\n",
      "3    15\n",
      "4    19\n",
      "dtype: int64\n",
      "Subtract two Series:\n",
      "0    1\n",
      "1    1\n",
      "2    1\n",
      "3    1\n",
      "4    1\n",
      "dtype: int64\n",
      "Multiply two Series:\n",
      "0     2\n",
      "1    12\n",
      "2    30\n",
      "3    56\n",
      "4    90\n",
      "dtype: int64\n",
      "Divide Series1 by Series2:\n",
      "0    2.000000\n",
      "1    1.333333\n",
      "2    1.200000\n",
      "3    1.142857\n",
      "4    1.111111\n",
      "dtype: float64\n"
     ]
    }
   ],
   "source": [
    "#Question 101\n",
    "import pandas as pd\n",
    "ds1 = pd.Series([2, 4, 6, 8, 10])\n",
    "ds2 = pd.Series([1, 3, 5, 7, 9])\n",
    "ds = ds1 + ds2\n",
    "print(\"Add two Series:\")\n",
    "print(ds)\n",
    "print(\"Subtract two Series:\")\n",
    "ds = ds1 - ds2\n",
    "print(ds)\n",
    "print(\"Multiply two Series:\")\n",
    "ds = ds1 * ds2\n",
    "print(ds)\n",
    "print(\"Divide Series1 by Series2:\")\n",
    "ds = ds1 / ds2\n",
    "print(ds)\n"
   ]
  },
  {
   "cell_type": "code",
   "execution_count": 18,
   "metadata": {},
   "outputs": [
    {
     "name": "stdout",
     "output_type": "stream",
     "text": [
      "Original dictionary: {'a': 100, 'b': 200, 'c': 300, 'd': 400, 'e': 800}\n",
      "Converted series:\n",
      "a    100\n",
      "b    200\n",
      "c    300\n",
      "d    400\n",
      "e    800\n",
      "dtype: int64\n"
     ]
    }
   ],
   "source": [
    "#Question 102\n",
    "import pandas as pd\n",
    "d1 = {'a': 100, 'b': 200, 'c':300, 'd':400, 'e':800}\n",
    "print(\"Original dictionary:\",d1)\n",
    "new_s = pd.Series(d1)\n",
    "print(\"Converted series:\")\n",
    "print(new_s)\n"
   ]
  },
  {
   "cell_type": "code",
   "execution_count": 20,
   "metadata": {},
   "outputs": [
    {
     "name": "stdout",
     "output_type": "stream",
     "text": [
      "Original Data Series: 0       100\n",
      "1       200\n",
      "2    python\n",
      "3    300.12\n",
      "4       400\n",
      "dtype: object\n",
      "Change the data type to numeric: 0    100.00\n",
      "1    200.00\n",
      "2       NaN\n",
      "3    300.12\n",
      "4    400.00\n",
      "dtype: float64\n"
     ]
    }
   ],
   "source": [
    "#Question 103\n",
    "import pandas as pd\n",
    "s1 = pd.Series(['100', '200', 'python', '300.12', '400'])\n",
    "print(\"Original Data Series:\",s1)\n",
    "s2 = pd.to_numeric(s1, errors='coerce')\n",
    "print(\"Change the data type to numeric:\",s2)\n"
   ]
  },
  {
   "cell_type": "code",
   "execution_count": 22,
   "metadata": {},
   "outputs": [
    {
     "name": "stdout",
     "output_type": "stream",
     "text": [
      "Original DataFrame\n",
      "   col1  col2  col3\n",
      "0     1     4     7\n",
      "1     2     5     5\n",
      "2     3     6     8\n",
      "3     4     9    12\n",
      "4     7     5     1\n",
      "5    11     0    11\n",
      "\n",
      "1st column as a Series:\n",
      "0     1\n",
      "1     2\n",
      "2     3\n",
      "3     4\n",
      "4     7\n",
      "5    11\n",
      "Name: col1, dtype: int64\n",
      "<class 'pandas.core.series.Series'>\n"
     ]
    }
   ],
   "source": [
    "#Question 104\n",
    "import pandas as pd\n",
    "d = {'col1': [1, 2, 3, 4, 7, 11], 'col2': [4, 5, 6, 9, 5, 0], 'col3': [7, 5, 8, 12, 1,11]}\n",
    "df = pd.DataFrame(data=d)\n",
    "print(\"Original DataFrame\")\n",
    "print(df)\n",
    "s1 = df.iloc[:,0]\n",
    "print(\"\\n1st column as a Series:\")\n",
    "print(s1)\n",
    "print(type(s1))\n"
   ]
  },
  {
   "cell_type": "code",
   "execution_count": 23,
   "metadata": {},
   "outputs": [
    {
     "name": "stdout",
     "output_type": "stream",
     "text": [
      "Original Data Series: 0     1\n",
      "1     2\n",
      "2     3\n",
      "3     4\n",
      "4     5\n",
      "5     6\n",
      "6     7\n",
      "7     8\n",
      "8     9\n",
      "9     5\n",
      "10    3\n",
      "dtype: int64\n",
      "Mean of Data Series: 4.818181818181818\n",
      "Standard deviation of Data Series: 2.522624895547565\n"
     ]
    }
   ],
   "source": [
    "#Question 105\n",
    "import pandas as pd\n",
    "s = pd.Series(data = [1,2,3,4,5,6,7,8,9,5,3])\n",
    "print(\"Original Data Series:\",s)\n",
    "print(\"Mean of Data Series:\",s.mean())\n",
    "print(\"Standard deviation of Data Series:\",s.std())"
   ]
  },
  {
   "cell_type": "code",
   "execution_count": 24,
   "metadata": {},
   "outputs": [
    {
     "name": "stdout",
     "output_type": "stream",
     "text": [
      "    X   Y   Z\n",
      "0  78  84  86\n",
      "1  85  94  97\n",
      "2  96  89  96\n",
      "3  80  83  72\n",
      "4  86  86  83\n"
     ]
    }
   ],
   "source": [
    "#Question 106\n",
    "import pandas as pd\n",
    "df = pd.DataFrame({'X':[78,85,96,80,86], 'Y':[84,94,89,83,86],'Z':[86,97,96,72,83]});\n",
    "print(df)\n"
   ]
  },
  {
   "cell_type": "code",
   "execution_count": 25,
   "metadata": {},
   "outputs": [
    {
     "name": "stdout",
     "output_type": "stream",
     "text": [
      "First three rows of the data frame:         name  score  attempts qualify\n",
      "a  Anastasia   12.5         1     yes\n",
      "b       Dima    9.0         3      no\n",
      "c  Katherine   16.5         2     yes\n"
     ]
    }
   ],
   "source": [
    "#Question 107\n",
    "import pandas as pd\n",
    "import numpy as np\n",
    "\n",
    "exam_data  = {'name': ['Anastasia', 'Dima', 'Katherine', 'James', 'Emily', 'Michael', 'Matthew', 'Laura', 'Kevin', 'Jonas'],\n",
    "        'score': [12.5, 9, 16.5, np.nan, 9, 20, 14.5, np.nan, 8, 19],\n",
    "        'attempts': [1, 3, 2, 3, 2, 3, 1, 1, 2, 1],\n",
    "        'qualify': ['yes', 'no', 'yes', 'no', 'no', 'yes', 'yes', 'no', 'no', 'yes']}\n",
    "labels = ['a', 'b', 'c', 'd', 'e', 'f', 'g', 'h', 'i', 'j']\n",
    "\n",
    "df = pd.DataFrame(exam_data , index=labels)\n",
    "print(\"First three rows of the data frame:\",df.iloc[:3])\n"
   ]
  },
  {
   "cell_type": "code",
   "execution_count": 26,
   "metadata": {},
   "outputs": [
    {
     "name": "stdout",
     "output_type": "stream",
     "text": [
      "Select specific columns and rows:\n",
      "      name  score\n",
      "b     Dima    9.0\n",
      "d    James    NaN\n",
      "f  Michael   20.0\n",
      "g  Matthew   14.5\n"
     ]
    }
   ],
   "source": [
    "#Question 108\n",
    "import pandas as pd\n",
    "import numpy as np\n",
    "\n",
    "exam_data  = {'name': ['Anastasia', 'Dima', 'Katherine', 'James', 'Emily', 'Michael', 'Matthew', 'Laura', 'Kevin', 'Jonas'],\n",
    "        'score': [12.5, 9, 16.5, np.nan, 9, 20, 14.5, np.nan, 8, 19],\n",
    "        'attempts': [1, 3, 2, 3, 2, 3, 1, 1, 2, 1],\n",
    "        'qualify': ['yes', 'no', 'yes', 'no', 'no', 'yes', 'yes', 'no', 'no', 'yes']}\n",
    "labels = ['a', 'b', 'c', 'd', 'e', 'f', 'g', 'h', 'i', 'j']\n",
    "\n",
    "df = pd.DataFrame(exam_data , index=labels)\n",
    "print(\"Select specific columns and rows:\")\n",
    "print(df.iloc[[1, 3, 5, 6], [0,1]])\n"
   ]
  },
  {
   "cell_type": "code",
   "execution_count": 27,
   "metadata": {},
   "outputs": [
    {
     "name": "stdout",
     "output_type": "stream",
     "text": [
      "\n",
      "Mean score for each different student in data frame: 13.5625\n"
     ]
    }
   ],
   "source": [
    "#Question 109\n",
    "import pandas as pd\n",
    "import numpy as np\n",
    "exam_data  = {'name': ['Anastasia', 'Dima', 'Katherine', 'James', 'Emily', 'Michael', 'Matthew', 'Laura', 'Kevin', 'Jonas'],\n",
    "        'score': [12.5, 9, 16.5, np.nan, 9, 20, 14.5, np.nan, 8, 19],\n",
    "        'attempts': [1, 3, 2, 3, 2, 3, 1, 1, 2, 1],\n",
    "        'qualify': ['yes', 'no', 'yes', 'no', 'no', 'yes', 'yes', 'no', 'no', 'yes']}\n",
    "labels = ['a', 'b', 'c', 'd', 'e', 'f', 'g', 'h', 'i', 'j']\n",
    "\n",
    "df = pd.DataFrame(exam_data , index=labels)\n",
    "print(\"\\nMean score for each different student in data frame:\",df['score'].mean())\n"
   ]
  },
  {
   "cell_type": "code",
   "execution_count": 28,
   "metadata": {},
   "outputs": [
    {
     "name": "stdout",
     "output_type": "stream",
     "text": [
      "Original DataFrame    col1  col2  col3\n",
      "0     1     4     7\n",
      "1     2     5     8\n",
      "2     3     6     9\n",
      "New DataFrame after renaming columns:\n",
      "   Column1  Column2  Column3\n",
      "0        1        4        7\n",
      "1        2        5        8\n",
      "2        3        6        9\n"
     ]
    }
   ],
   "source": [
    "#Question 110\n",
    "import pandas as pd\n",
    "d = {'col1': [1, 2, 3], 'col2': [4, 5, 6], 'col3': [7, 8, 9]}\n",
    "df = pd.DataFrame(d)\n",
    "print(\"Original DataFrame\",df)\n",
    "df.columns = ['Column1', 'Column2', 'Column3']\n",
    "df = df.rename(columns={'col1': 'Column1', 'col2': 'Column2', 'col3': 'Column3'})\n",
    "print(\"New DataFrame after renaming columns:\")\n",
    "print(df)"
   ]
  },
  {
   "cell_type": "code",
   "execution_count": 1,
   "metadata": {},
   "outputs": [
    {
     "name": "stdout",
     "output_type": "stream",
     "text": [
      "          city  Number of people\n",
      "0   California                 4\n",
      "1      Georgia                 2\n",
      "2  Los Angeles                 4\n"
     ]
    }
   ],
   "source": [
    "#Question 111\n",
    "import pandas as pd\n",
    "df1 = pd.DataFrame({'name': ['Anastasia', 'Dima', 'Katherine', 'James', 'Emily', 'Michael', 'Matthew', 'Laura', 'Kevin', 'Jonas'],\n",
    "'city': ['California', 'Los Angeles', 'California', 'California', 'California', 'Los Angeles', 'Los Angeles', 'Georgia', 'Georgia', 'Los Angeles']})\n",
    "g1 = df1.groupby([\"city\"]).size().reset_index(name='Number of people')\n",
    "print(g1)\n"
   ]
  },
  {
   "cell_type": "code",
   "execution_count": 2,
   "metadata": {},
   "outputs": [
    {
     "name": "stdout",
     "output_type": "stream",
     "text": [
      "Original DataFrame\n",
      "   col1  col2  col3\n",
      "0     1     4     7\n",
      "1     4     5     8\n",
      "2     3     6     9\n",
      "3     4     7     0\n",
      "4     5     8     1\n"
     ]
    }
   ],
   "source": [
    "#Question 112\n",
    "import pandas as pd\n",
    "import numpy as np\n",
    "d = {'col1': [1, 4, 3, 4, 5], 'col2': [4, 5, 6, 7, 8], 'col3': [7, 8, 9, 0, 1]}\n",
    "df = pd.DataFrame(d)\n",
    "pd.set_option('display.width', 100)\n",
    "print(\"Original DataFrame\")\n",
    "print(df)\n"
   ]
  },
  {
   "cell_type": "code",
   "execution_count": 4,
   "metadata": {},
   "outputs": [
    {
     "name": "stdout",
     "output_type": "stream",
     "text": [
      "String Date:\n",
      "0    3/11/2000\n",
      "1    3/12/2000\n",
      "2    3/13/2000\n",
      "dtype: object\n",
      "DataFrame (string to datetime):\n",
      "           0\n",
      "0 2000-03-11\n",
      "1 2000-03-12\n",
      "2 2000-03-13\n"
     ]
    }
   ],
   "source": [
    "#Question 113\n",
    "import pandas as pd\n",
    "import numpy as np\n",
    "s = pd.Series(['3/11/2000', '3/12/2000', '3/13/2000'])\n",
    "print(\"String Date:\")\n",
    "print(s)\n",
    "r = pd.to_datetime(pd.Series(s))\n",
    "print(\"DataFrame (string to datetime):\")\n",
    "print(pd.DataFrame(r))\n"
   ]
  },
  {
   "cell_type": "code",
   "execution_count": 5,
   "metadata": {},
   "outputs": [
    {
     "name": "stdout",
     "output_type": "stream",
     "text": [
      "After appending data:\n",
      "   col1  col2\n",
      "0     1     1\n",
      "1     2     2\n",
      "2     3     3\n"
     ]
    }
   ],
   "source": [
    "#Question 114\n",
    "import pandas as pd\n",
    "import numpy as np\n",
    "df = pd.DataFrame()\n",
    "data = pd.DataFrame({\"col1\": range(1,4),\"col2\": range(1,4)})\n",
    "print(\"After appending data:\")\n",
    "df = df.append(data)\n",
    "print(df)"
   ]
  },
  {
   "cell_type": "code",
   "execution_count": 6,
   "metadata": {},
   "outputs": [
    {
     "name": "stdout",
     "output_type": "stream",
     "text": [
      "Original DataFrame\n",
      "   col1  col2  col3\n",
      "0     1     4     7\n",
      "1     2     5     8\n",
      "2     3     6    12\n",
      "3     4     9     1\n",
      "4     7     5    11\n",
      "\n",
      "Number of columns: 3\n"
     ]
    }
   ],
   "source": [
    "#Question 115\n",
    "import pandas as pd\n",
    "d = {'col1': [1, 2, 3, 4, 7], 'col2': [4, 5, 6, 9, 5], 'col3': [7, 8, 12, 1, 11]}\n",
    "df = pd.DataFrame(d)\n",
    "print(\"Original DataFrame\")\n",
    "print(df)\n",
    "print(\"\\nNumber of columns:\",len(df.columns))"
   ]
  },
  {
   "cell_type": "code",
   "execution_count": 8,
   "metadata": {},
   "outputs": [
    {
     "name": "stdout",
     "output_type": "stream",
     "text": [
      "Original DataFrame\n",
      "   col1  col2  col3\n",
      "0     1     4     7\n",
      "1     2     5     5\n",
      "2     3     6     8\n",
      "3     4     9    12\n",
      "4     7     5     1\n",
      "5    11     0    11\n",
      "\n",
      "After removing last 3 rows:    col1  col2  col3\n",
      "0     1     4     7\n",
      "1     2     5     5\n",
      "2     3     6     8\n"
     ]
    }
   ],
   "source": [
    "#Question 116\n",
    "import pandas as pd\n",
    "d = {'col1': [1, 2, 3, 4, 7, 11], 'col2': [4, 5, 6, 9, 5, 0], 'col3': [7, 5, 8, 12, 1,11]}\n",
    "df = pd.DataFrame(data=d)\n",
    "print(\"Original DataFrame\")\n",
    "print(df)\n",
    "print(\"\\nAfter removing last 3 rows:\",df.iloc[:3])\n"
   ]
  },
  {
   "cell_type": "code",
   "execution_count": 9,
   "metadata": {},
   "outputs": [
    {
     "data": {
      "text/html": [
       "<div>\n",
       "<style scoped>\n",
       "    .dataframe tbody tr th:only-of-type {\n",
       "        vertical-align: middle;\n",
       "    }\n",
       "\n",
       "    .dataframe tbody tr th {\n",
       "        vertical-align: top;\n",
       "    }\n",
       "\n",
       "    .dataframe thead th {\n",
       "        text-align: right;\n",
       "    }\n",
       "</style>\n",
       "<table border=\"1\" class=\"dataframe\">\n",
       "  <thead>\n",
       "    <tr style=\"text-align: right;\">\n",
       "      <th></th>\n",
       "      <th>Year</th>\n",
       "      <th>MSHA ID</th>\n",
       "      <th>Mine_Name</th>\n",
       "      <th>Production</th>\n",
       "      <th>Labor_Hours</th>\n",
       "    </tr>\n",
       "  </thead>\n",
       "  <tbody>\n",
       "    <tr>\n",
       "      <th>40</th>\n",
       "      <td>2013</td>\n",
       "      <td>103372</td>\n",
       "      <td>Cane Creek Mine</td>\n",
       "      <td>66258</td>\n",
       "      <td>32401</td>\n",
       "    </tr>\n",
       "    <tr>\n",
       "      <th>41</th>\n",
       "      <td>2013</td>\n",
       "      <td>103376</td>\n",
       "      <td>Town Creek</td>\n",
       "      <td>299167</td>\n",
       "      <td>176499</td>\n",
       "    </tr>\n",
       "    <tr>\n",
       "      <th>42</th>\n",
       "      <td>2013</td>\n",
       "      <td>103389</td>\n",
       "      <td>Carbon Hill Mine</td>\n",
       "      <td>76241</td>\n",
       "      <td>84966</td>\n",
       "    </tr>\n",
       "    <tr>\n",
       "      <th>43</th>\n",
       "      <td>2013</td>\n",
       "      <td>103410</td>\n",
       "      <td>Coal Valley Mine</td>\n",
       "      <td>407841</td>\n",
       "      <td>158591</td>\n",
       "    </tr>\n",
       "    <tr>\n",
       "      <th>44</th>\n",
       "      <td>2013</td>\n",
       "      <td>103423</td>\n",
       "      <td>Dutton Hill Mine</td>\n",
       "      <td>37275</td>\n",
       "      <td>9162</td>\n",
       "    </tr>\n",
       "    <tr>\n",
       "      <th>45</th>\n",
       "      <td>2013</td>\n",
       "      <td>1519322</td>\n",
       "      <td>Ghm #25</td>\n",
       "      <td>25054</td>\n",
       "      <td>3108</td>\n",
       "    </tr>\n",
       "    <tr>\n",
       "      <th>46</th>\n",
       "      <td>2013</td>\n",
       "      <td>103321</td>\n",
       "      <td>Poplar Springs</td>\n",
       "      <td>189370</td>\n",
       "      <td>76366</td>\n",
       "    </tr>\n",
       "    <tr>\n",
       "      <th>47</th>\n",
       "      <td>2013</td>\n",
       "      <td>103358</td>\n",
       "      <td>Old Union</td>\n",
       "      <td>284563</td>\n",
       "      <td>161805</td>\n",
       "    </tr>\n",
       "    <tr>\n",
       "      <th>48</th>\n",
       "      <td>2013</td>\n",
       "      <td>5000030</td>\n",
       "      <td>Usibelli</td>\n",
       "      <td>1631584</td>\n",
       "      <td>286079</td>\n",
       "    </tr>\n",
       "    <tr>\n",
       "      <th>49</th>\n",
       "      <td>2013</td>\n",
       "      <td>201195</td>\n",
       "      <td>Kayenta Mine</td>\n",
       "      <td>7602722</td>\n",
       "      <td>1015333</td>\n",
       "    </tr>\n",
       "  </tbody>\n",
       "</table>\n",
       "</div>"
      ],
      "text/plain": [
       "    Year  MSHA ID         Mine_Name  Production  Labor_Hours\n",
       "40  2013   103372   Cane Creek Mine       66258        32401\n",
       "41  2013   103376        Town Creek      299167       176499\n",
       "42  2013   103389  Carbon Hill Mine       76241        84966\n",
       "43  2013   103410  Coal Valley Mine      407841       158591\n",
       "44  2013   103423  Dutton Hill Mine       37275         9162\n",
       "45  2013  1519322           Ghm #25       25054         3108\n",
       "46  2013   103321    Poplar Springs      189370        76366\n",
       "47  2013   103358         Old Union      284563       161805\n",
       "48  2013  5000030          Usibelli     1631584       286079\n",
       "49  2013   201195      Kayenta Mine     7602722      1015333"
      ]
     },
     "execution_count": 9,
     "metadata": {},
     "output_type": "execute_result"
    }
   ],
   "source": [
    "#Question 117\n",
    "import pandas as pd\n",
    "import numpy as np\n",
    "df = pd.read_excel('D:\\ML MASTERS AND DEPLOYMENT\\coalpublic2013.xlsx')\n",
    "df.tail(n=10)\n"
   ]
  },
  {
   "cell_type": "code",
   "execution_count": 10,
   "metadata": {},
   "outputs": [
    {
     "data": {
      "text/html": [
       "<div>\n",
       "<style scoped>\n",
       "    .dataframe tbody tr th:only-of-type {\n",
       "        vertical-align: middle;\n",
       "    }\n",
       "\n",
       "    .dataframe tbody tr th {\n",
       "        vertical-align: top;\n",
       "    }\n",
       "\n",
       "    .dataframe thead th {\n",
       "        text-align: right;\n",
       "    }\n",
       "</style>\n",
       "<table border=\"1\" class=\"dataframe\">\n",
       "  <thead>\n",
       "    <tr style=\"text-align: right;\">\n",
       "      <th></th>\n",
       "      <th>Year</th>\n",
       "      <th>MSHA ID</th>\n",
       "      <th>Mine_Name</th>\n",
       "      <th>Production</th>\n",
       "      <th>Labor_Hours</th>\n",
       "    </tr>\n",
       "  </thead>\n",
       "  <tbody>\n",
       "    <tr>\n",
       "      <th>13</th>\n",
       "      <td>2013</td>\n",
       "      <td>103332</td>\n",
       "      <td>Powhatan Mine</td>\n",
       "      <td>140521</td>\n",
       "      <td>61394</td>\n",
       "    </tr>\n",
       "    <tr>\n",
       "      <th>18</th>\n",
       "      <td>2013</td>\n",
       "      <td>102976</td>\n",
       "      <td>Piney Woods Preparation Plant</td>\n",
       "      <td>0</td>\n",
       "      <td>14828</td>\n",
       "    </tr>\n",
       "    <tr>\n",
       "      <th>19</th>\n",
       "      <td>2013</td>\n",
       "      <td>102976</td>\n",
       "      <td>Piney Woods Preparation Plant</td>\n",
       "      <td>0</td>\n",
       "      <td>23193</td>\n",
       "    </tr>\n",
       "    <tr>\n",
       "      <th>46</th>\n",
       "      <td>2013</td>\n",
       "      <td>103321</td>\n",
       "      <td>Poplar Springs</td>\n",
       "      <td>189370</td>\n",
       "      <td>76366</td>\n",
       "    </tr>\n",
       "  </tbody>\n",
       "</table>\n",
       "</div>"
      ],
      "text/plain": [
       "    Year  MSHA ID                      Mine_Name  Production  Labor_Hours\n",
       "13  2013   103332                  Powhatan Mine      140521        61394\n",
       "18  2013   102976  Piney Woods Preparation Plant           0        14828\n",
       "19  2013   102976  Piney Woods Preparation Plant           0        23193\n",
       "46  2013   103321                 Poplar Springs      189370        76366"
      ]
     },
     "execution_count": 10,
     "metadata": {},
     "output_type": "execute_result"
    }
   ],
   "source": [
    "#Question 118\n",
    "import pandas as pd\n",
    "import numpy as np\n",
    "df = pd.read_excel('D:\\ML MASTERS AND DEPLOYMENT\\coalpublic2013.xlsx')\n",
    "df[df[\"Mine_Name\"].map(lambda x: x.startswith('P'))].head()\n"
   ]
  },
  {
   "cell_type": "code",
   "execution_count": 11,
   "metadata": {},
   "outputs": [
    {
     "data": {
      "text/html": [
       "<div>\n",
       "<style scoped>\n",
       "    .dataframe tbody tr th:only-of-type {\n",
       "        vertical-align: middle;\n",
       "    }\n",
       "\n",
       "    .dataframe tbody tr th {\n",
       "        vertical-align: top;\n",
       "    }\n",
       "\n",
       "    .dataframe thead th {\n",
       "        text-align: right;\n",
       "    }\n",
       "</style>\n",
       "<table border=\"1\" class=\"dataframe\">\n",
       "  <thead>\n",
       "    <tr style=\"text-align: right;\">\n",
       "      <th></th>\n",
       "      <th>emp_id</th>\n",
       "      <th>first_name</th>\n",
       "      <th>last_name</th>\n",
       "      <th>hire_date</th>\n",
       "    </tr>\n",
       "  </thead>\n",
       "  <tbody>\n",
       "    <tr>\n",
       "      <th>4</th>\n",
       "      <td>104</td>\n",
       "      <td>Bruce</td>\n",
       "      <td>Ernst</td>\n",
       "      <td>2007-05-21</td>\n",
       "    </tr>\n",
       "    <tr>\n",
       "      <th>7</th>\n",
       "      <td>107</td>\n",
       "      <td>Diana</td>\n",
       "      <td>Lorentz</td>\n",
       "      <td>2007-02-07</td>\n",
       "    </tr>\n",
       "    <tr>\n",
       "      <th>13</th>\n",
       "      <td>113</td>\n",
       "      <td>Luis</td>\n",
       "      <td>Popp</td>\n",
       "      <td>2007-12-07</td>\n",
       "    </tr>\n",
       "    <tr>\n",
       "      <th>19</th>\n",
       "      <td>119</td>\n",
       "      <td>Karen</td>\n",
       "      <td>Colmenares</td>\n",
       "      <td>2007-08-10</td>\n",
       "    </tr>\n",
       "  </tbody>\n",
       "</table>\n",
       "</div>"
      ],
      "text/plain": [
       "    emp_id first_name   last_name  hire_date\n",
       "4      104      Bruce       Ernst 2007-05-21\n",
       "7      107      Diana     Lorentz 2007-02-07\n",
       "13     113       Luis        Popp 2007-12-07\n",
       "19     119      Karen  Colmenares 2007-08-10"
      ]
     },
     "execution_count": 11,
     "metadata": {},
     "output_type": "execute_result"
    }
   ],
   "source": [
    "#Question 119\n",
    "import pandas as pd\n",
    "import numpy as np\n",
    "df = pd.read_excel('D:\\ML MASTERS AND DEPLOYMENT\\employee.xlsx')\n",
    "df[df['hire_date'] >='20070101']\n"
   ]
  },
  {
   "cell_type": "code",
   "execution_count": 13,
   "metadata": {},
   "outputs": [
    {
     "data": {
      "text/html": [
       "<div>\n",
       "<style scoped>\n",
       "    .dataframe tbody tr th:only-of-type {\n",
       "        vertical-align: middle;\n",
       "    }\n",
       "\n",
       "    .dataframe tbody tr th {\n",
       "        vertical-align: top;\n",
       "    }\n",
       "\n",
       "    .dataframe thead th {\n",
       "        text-align: right;\n",
       "    }\n",
       "</style>\n",
       "<table border=\"1\" class=\"dataframe\">\n",
       "  <thead>\n",
       "    <tr style=\"text-align: right;\">\n",
       "      <th></th>\n",
       "      <th>emp_id</th>\n",
       "      <th>first_name</th>\n",
       "      <th>last_name</th>\n",
       "    </tr>\n",
       "    <tr>\n",
       "      <th>hire_date</th>\n",
       "      <th></th>\n",
       "      <th></th>\n",
       "      <th></th>\n",
       "    </tr>\n",
       "  </thead>\n",
       "  <tbody>\n",
       "    <tr>\n",
       "      <th>2007-05-21</th>\n",
       "      <td>104</td>\n",
       "      <td>Bruce</td>\n",
       "      <td>Ernst</td>\n",
       "    </tr>\n",
       "    <tr>\n",
       "      <th>2007-02-07</th>\n",
       "      <td>107</td>\n",
       "      <td>Diana</td>\n",
       "      <td>Lorentz</td>\n",
       "    </tr>\n",
       "    <tr>\n",
       "      <th>2007-12-07</th>\n",
       "      <td>113</td>\n",
       "      <td>Luis</td>\n",
       "      <td>Popp</td>\n",
       "    </tr>\n",
       "    <tr>\n",
       "      <th>2007-08-10</th>\n",
       "      <td>119</td>\n",
       "      <td>Karen</td>\n",
       "      <td>Colmenares</td>\n",
       "    </tr>\n",
       "  </tbody>\n",
       "</table>\n",
       "</div>"
      ],
      "text/plain": [
       "            emp_id first_name   last_name\n",
       "hire_date                                \n",
       "2007-05-21     104      Bruce       Ernst\n",
       "2007-02-07     107      Diana     Lorentz\n",
       "2007-12-07     113       Luis        Popp\n",
       "2007-08-10     119      Karen  Colmenares"
      ]
     },
     "execution_count": 13,
     "metadata": {},
     "output_type": "execute_result"
    }
   ],
   "source": [
    "#Question 120\n",
    "import pandas as pd\n",
    "import numpy as np\n",
    "df = pd.read_excel('D:\\ML MASTERS AND DEPLOYMENT\\employee.xlsx')\n",
    "df2 = df.set_index(['hire_date'])\n",
    "result = df2[\"2007\"]\n",
    "result\n"
   ]
  },
  {
   "cell_type": "code",
   "execution_count": 15,
   "metadata": {},
   "outputs": [
    {
     "name": "stdout",
     "output_type": "stream",
     "text": [
      "OrderedDict([('coalpublic2013',     Year  MSHA ID                       Mine_Name  Production  Labor_Hours\n",
      "0   2013   103381            Tacoa Highwall Miner       56004        22392\n",
      "1   2013   103404                Reid School Mine       28807        28447\n",
      "2   2013   100759  North River #1 Underground Min     1440115       474784\n",
      "3   2013   103246                      Bear Creek       87587        29193\n",
      "4   2013   103451                     Knight Mine      147499        46393\n",
      "5   2013   103433              Crane Central Mine       69339        47195\n",
      "6   2013   100329                    Concord Mine           0       144002\n",
      "7   2013   100851                  Oak Grove Mine     2269014      1001809\n",
      "8   2013   102901                Shoal Creek Mine           0        12396\n",
      "9   2013   102901                Shoal Creek Mine     1453024      1237415\n",
      "10  2013   103180             Sloan Mountain Mine      327780       196963\n",
      "11  2013   103182                        Fishtrap      175058        87314\n",
      "12  2013   103285                     Narley Mine      154861        90584\n",
      "13  2013   103332                   Powhatan Mine      140521        61394\n",
      "14  2013   103375                    Johnson Mine         580         1900\n",
      "15  2013   103419               Maxine-Pratt Mine      125824       107469\n",
      "16  2013   103432                   Skelton Creek        8252          220\n",
      "17  2013   103437         Black Warrior Mine No 1      145924        70926\n",
      "18  2013   102976   Piney Woods Preparation Plant           0        14828\n",
      "19  2013   102976   Piney Woods Preparation Plant           0        23193\n",
      "20  2013   103380                          Calera           0        12621\n",
      "21  2013   103380                          Calera           0         1402\n",
      "22  2013   103422                 Clark No 1 Mine      122727       140250\n",
      "23  2013   103467             Helena Surface Mine       59664        30539\n",
      "24  2013   101247                       No 4 Mine     2622528      1551141\n",
      "25  2013   101401                       No 7 Mine     5405412      2464719\n",
      "26  2013   103172  Searles Mine No. 2, 3, 4, 5, 6      258078       119542\n",
      "27  2013   103179             Fleetwood Mine No 1       75937        63745\n",
      "28  2013   103303                    Shannon Mine      317491       164388\n",
      "29  2013   103323                   Deerlick Mine      133452        46381\n",
      "30  2013   103364           Brc Alabama No. 7 Llc           0        14324\n",
      "31  2013   103436                Swann's Crossing      137511        77190\n",
      "32  2013   100347                    Choctaw Mine      537429       215295\n",
      "33  2013   101362                 Manchester Mine      219457       116914\n",
      "34  2013   102996                  Jap Creek Mine      375715       164093\n",
      "35  2013   103155              Corinth Prep Plant           0        27996\n",
      "36  2013   103155              Corinth Prep Plant           0        51994\n",
      "37  2013   103195     Mccollum/Sparks Branch Mine       71910        17411\n",
      "38  2013   103342             Reese's Branch Mine      263888       115123\n",
      "39  2013   103370             Cresent Valley Mine        2860          621\n",
      "40  2013   103372                 Cane Creek Mine       66258        32401\n",
      "41  2013   103376                      Town Creek      299167       176499\n",
      "42  2013   103389                Carbon Hill Mine       76241        84966\n",
      "43  2013   103410                Coal Valley Mine      407841       158591\n",
      "44  2013   103423                Dutton Hill Mine       37275         9162\n",
      "45  2013  1519322                         Ghm #25       25054         3108\n",
      "46  2013   103321                  Poplar Springs      189370        76366\n",
      "47  2013   103358                       Old Union      284563       161805\n",
      "48  2013  5000030                        Usibelli     1631584       286079\n",
      "49  2013   201195                    Kayenta Mine     7602722      1015333)])\n"
     ]
    }
   ],
   "source": [
    "#Question 121\n",
    "import pandas as pd\n",
    "import numpy as np\n",
    "df1 = pd.read_excel('D:\\ML MASTERS AND DEPLOYMENT\\coalpublic2013.xlsx',sheet_name=None)\n",
    "print(df1)\n"
   ]
  },
  {
   "cell_type": "code",
   "execution_count": 19,
   "metadata": {},
   "outputs": [
    {
     "data": {
      "text/html": [
       "<div>\n",
       "<style scoped>\n",
       "    .dataframe tbody tr th:only-of-type {\n",
       "        vertical-align: middle;\n",
       "    }\n",
       "\n",
       "    .dataframe tbody tr th {\n",
       "        vertical-align: top;\n",
       "    }\n",
       "\n",
       "    .dataframe thead th {\n",
       "        text-align: right;\n",
       "    }\n",
       "</style>\n",
       "<table border=\"1\" class=\"dataframe\">\n",
       "  <thead>\n",
       "    <tr style=\"text-align: right;\">\n",
       "      <th></th>\n",
       "      <th>emp_id</th>\n",
       "      <th>first_name</th>\n",
       "      <th>last_name</th>\n",
       "      <th>hire_date</th>\n",
       "    </tr>\n",
       "  </thead>\n",
       "  <tbody>\n",
       "    <tr>\n",
       "      <th>0</th>\n",
       "      <td>100</td>\n",
       "      <td>Steven</td>\n",
       "      <td>King</td>\n",
       "      <td>2003-06-17</td>\n",
       "    </tr>\n",
       "    <tr>\n",
       "      <th>1</th>\n",
       "      <td>101</td>\n",
       "      <td>Neena</td>\n",
       "      <td>Kochhar</td>\n",
       "      <td>2005-09-21</td>\n",
       "    </tr>\n",
       "    <tr>\n",
       "      <th>2</th>\n",
       "      <td>102</td>\n",
       "      <td>Lex</td>\n",
       "      <td>De Haan</td>\n",
       "      <td>2001-01-13</td>\n",
       "    </tr>\n",
       "    <tr>\n",
       "      <th>3</th>\n",
       "      <td>103</td>\n",
       "      <td>Alexander</td>\n",
       "      <td>Hunold</td>\n",
       "      <td>2006-01-03</td>\n",
       "    </tr>\n",
       "    <tr>\n",
       "      <th>4</th>\n",
       "      <td>104</td>\n",
       "      <td>Bruce</td>\n",
       "      <td>Ernst</td>\n",
       "      <td>2007-05-21</td>\n",
       "    </tr>\n",
       "    <tr>\n",
       "      <th>5</th>\n",
       "      <td>105</td>\n",
       "      <td>David</td>\n",
       "      <td>Austin</td>\n",
       "      <td>2005-06-25</td>\n",
       "    </tr>\n",
       "    <tr>\n",
       "      <th>6</th>\n",
       "      <td>106</td>\n",
       "      <td>Valli</td>\n",
       "      <td>Pataballa</td>\n",
       "      <td>2006-02-05</td>\n",
       "    </tr>\n",
       "    <tr>\n",
       "      <th>7</th>\n",
       "      <td>107</td>\n",
       "      <td>Diana</td>\n",
       "      <td>Lorentz</td>\n",
       "      <td>2007-02-07</td>\n",
       "    </tr>\n",
       "    <tr>\n",
       "      <th>8</th>\n",
       "      <td>108</td>\n",
       "      <td>Nancy</td>\n",
       "      <td>Greenberg</td>\n",
       "      <td>2002-08-17</td>\n",
       "    </tr>\n",
       "    <tr>\n",
       "      <th>9</th>\n",
       "      <td>109</td>\n",
       "      <td>Daniel</td>\n",
       "      <td>Faviet</td>\n",
       "      <td>2002-08-16</td>\n",
       "    </tr>\n",
       "  </tbody>\n",
       "</table>\n",
       "</div>"
      ],
      "text/plain": [
       "   emp_id first_name  last_name  hire_date\n",
       "0     100     Steven       King 2003-06-17\n",
       "1     101      Neena    Kochhar 2005-09-21\n",
       "2     102        Lex    De Haan 2001-01-13\n",
       "3     103  Alexander     Hunold 2006-01-03\n",
       "4     104      Bruce      Ernst 2007-05-21\n",
       "5     105      David     Austin 2005-06-25\n",
       "6     106      Valli  Pataballa 2006-02-05\n",
       "7     107      Diana    Lorentz 2007-02-07\n",
       "8     108      Nancy  Greenberg 2002-08-17\n",
       "9     109     Daniel     Faviet 2002-08-16"
      ]
     },
     "execution_count": 19,
     "metadata": {},
     "output_type": "execute_result"
    }
   ],
   "source": [
    "#Question 122\n",
    "import pandas as pd\n",
    "import numpy as np\n",
    "df1 = pd.read_excel('D:\\ML MASTERS AND DEPLOYMENT\\employee.xlsx',sheet_name=0)\n",
    "df2 = pd.read_excel('D:\\ML MASTERS AND DEPLOYMENT\\employee.xlsx',sheet_name=1)\n",
    "df3 = pd.read_excel('D:\\ML MASTERS AND DEPLOYMENT\\employee.xlsx',sheet_name=2)\n",
    "df = pd.concat([df1, df2, df3])\n",
    "df.to_excel('D:\\output.xlsx', index=False)\n",
    "df_new=pd.read_excel('D:\\output.xlsx')\n",
    "df_new.head(n=10)"
   ]
  },
  {
   "cell_type": "code",
   "execution_count": 20,
   "metadata": {},
   "outputs": [
    {
     "name": "stdout",
     "output_type": "stream",
     "text": [
      "              adult_male  alone      fare  parch  pclass  sibsp  survived\n",
      "sex    age                                                               \n",
      "female 0.75          0.0    0.0   38.5166      2       6      4         2\n",
      "       1.00          0.0    0.0   26.8750      3       6      1         2\n",
      "       2.00          0.0    0.0  259.4750      9      15      9         2\n",
      "       3.00          0.0    0.0   62.6542      3       5      4         1\n",
      "       4.00          0.0    0.0  114.1417      6      13      4         5\n",
      "       5.00          0.0    1.0   90.8708      5      11      7         4\n",
      "       6.00          0.0    0.0   64.2750      3       5      4         1\n",
      "       7.00          0.0    0.0   26.2500      2       2      0         1\n",
      "       8.00          0.0    0.0   47.3250      3       5      3         1\n",
      "       9.00          0.0    0.0  108.7958      7      12     10         0\n",
      "       10.00         0.0    0.0   24.1500      2       3      0         0\n",
      "       11.00         0.0    0.0   31.2750      2       3      4         0\n",
      "       13.00         0.0    1.0   26.7292      1       5      0         2\n",
      "       14.00         0.0    1.0  169.1667      2       9      3         3\n",
      "       14.50         0.0    0.0   14.4542      0       3      1         0\n",
      "       15.00         0.0    2.0  241.0459      1      10      1         4\n",
      "       16.00         0.0    3.0  246.2625      4      12      5         5\n",
      "       17.00         0.0    3.0  210.7833      2      12      6         5\n",
      "       18.00         0.0    4.0  697.0167      9      31      6         8\n",
      "       19.00         0.0    3.0  215.0959      2      13      3         7\n",
      "       20.00         0.0    1.0   18.4875      0       6      1         0\n",
      "       21.00         0.0    4.0  410.4333      4      16      5         4\n",
      "       22.00         0.0    7.0  444.1084      6      26      3        10\n",
      "       23.00         0.0    3.0  405.5417      2      10      4         4\n",
      "       24.00         0.0    7.0  772.1708     15      31     10        14\n",
      "       25.00         0.0    1.0  223.2500      4      11      3         2\n",
      "       26.00         0.0    3.0  136.7292      1      12      2         3\n",
      "       27.00         0.0    2.0   76.8916      3      15      2         5\n",
      "       28.00         0.0    4.0  110.9458      1      16      3         5\n",
      "       29.00         0.0    2.0  320.6208      7      16      3         5\n",
      "...                  ...    ...       ...    ...     ...    ...       ...\n",
      "male   42.00        10.0    6.0  216.1084      1      21      3         3\n",
      "       43.00         3.0    2.0   40.7500      1       8      1         0\n",
      "       44.00         6.0    3.0  156.1250      1      15      3         1\n",
      "       45.00         6.0    5.0  187.1000      0      10      1         2\n",
      "       45.50         2.0    2.0   35.7250      0       4      0         0\n",
      "       46.00         3.0    2.0  166.3750      0       4      1         0\n",
      "       47.00         7.0    7.0  181.3583      0      12      0         0\n",
      "       48.00         5.0    3.0  176.1334      0       8      2         3\n",
      "       49.00         4.0    1.0  256.9167      1       6      3         2\n",
      "       50.00         5.0    2.0  317.0250      0       8      4         1\n",
      "       51.00         6.0    5.0  123.3084      1      13      0         1\n",
      "       52.00         4.0    3.0  136.6500      1       6      1         1\n",
      "       54.00         5.0    3.0  195.1500      1       8      1         0\n",
      "       55.00         1.0    1.0   30.5000      0       1      0         0\n",
      "       55.50         1.0    1.0    8.0500      0       3      0         0\n",
      "       56.00         3.0    3.0   92.7458      0       3      0         1\n",
      "       57.00         1.0    1.0   12.3500      0       2      0         0\n",
      "       58.00         2.0    1.0  142.9750      2       2      0         0\n",
      "       59.00         2.0    2.0   20.7500      0       5      0         0\n",
      "       60.00         3.0    1.0  144.7500      2       4      2         1\n",
      "       61.00         3.0    3.0   72.0583      0       5      0         0\n",
      "       62.00         3.0    3.0   63.6000      0       4      0         1\n",
      "       64.00         2.0    1.0  289.0000      4       2      1         0\n",
      "       65.00         3.0    2.0   96.2792      1       5      0         0\n",
      "       66.00         1.0    1.0   10.5000      0       2      0         0\n",
      "       70.00         2.0    1.0   81.5000      1       3      1         0\n",
      "       70.50         1.0    1.0    7.7500      0       3      0         0\n",
      "       71.00         2.0    2.0   84.1584      0       2      0         0\n",
      "       74.00         1.0    1.0    7.7750      0       3      0         0\n",
      "       80.00         1.0    1.0   30.0000      0       1      0         1\n",
      "\n",
      "[145 rows x 7 columns]\n"
     ]
    }
   ],
   "source": [
    "#Question 123\n",
    "import pandas as pd\n",
    "import numpy as np\n",
    "df = pd.read_excel('D:\\ML MASTERS AND DEPLOYMENT\\Titanic.xlsx')\n",
    "result = pd.pivot_table(df, index = [\"sex\",\"age\"], aggfunc=np.sum)\n",
    "print(result)\n"
   ]
  },
  {
   "cell_type": "code",
   "execution_count": 21,
   "metadata": {},
   "outputs": [
    {
     "name": "stdout",
     "output_type": "stream",
     "text": [
      "class               First    Second     Third\n",
      "sex    age                                   \n",
      "female (20, 55]  0.928571  1.000000  0.510638\n",
      "       NaN       0.968750  0.912281  0.407407\n",
      "male   (20, 55]  0.571429  0.526316  0.197368\n",
      "       NaN       0.440000  0.054054  0.134503\n"
     ]
    }
   ],
   "source": [
    "#Question 124\n",
    "import pandas as pd\n",
    "import numpy as np\n",
    "df = pd.read_excel('D:\\ML MASTERS AND DEPLOYMENT\\Titanic.xlsx')\n",
    "age = pd.cut(df['age'], [0, 20, 55])\n",
    "result = df.pivot_table('survived', index=['sex', age], columns='class')\n",
    "print(result)\n"
   ]
  },
  {
   "cell_type": "code",
   "execution_count": 22,
   "metadata": {},
   "outputs": [
    {
     "name": "stdout",
     "output_type": "stream",
     "text": [
      "0      (10, 30]\n",
      "1      (30, 60]\n",
      "2      (10, 30]\n",
      "3      (30, 60]\n",
      "4      (30, 60]\n",
      "5           NaN\n",
      "6      (30, 60]\n",
      "7       (0, 10]\n",
      "8      (10, 30]\n",
      "9      (10, 30]\n",
      "10      (0, 10]\n",
      "11     (30, 60]\n",
      "12     (10, 30]\n",
      "13     (30, 60]\n",
      "14     (10, 30]\n",
      "15     (30, 60]\n",
      "16      (0, 10]\n",
      "17          NaN\n",
      "18     (30, 60]\n",
      "19          NaN\n",
      "20     (30, 60]\n",
      "21     (30, 60]\n",
      "22     (10, 30]\n",
      "23     (10, 30]\n",
      "24      (0, 10]\n",
      "25     (30, 60]\n",
      "26          NaN\n",
      "27     (10, 30]\n",
      "28          NaN\n",
      "29          NaN\n",
      "         ...   \n",
      "861    (10, 30]\n",
      "862    (30, 60]\n",
      "863         NaN\n",
      "864    (10, 30]\n",
      "865    (30, 60]\n",
      "866    (10, 30]\n",
      "867    (30, 60]\n",
      "868         NaN\n",
      "869     (0, 10]\n",
      "870    (10, 30]\n",
      "871    (30, 60]\n",
      "872    (30, 60]\n",
      "873    (30, 60]\n",
      "874    (10, 30]\n",
      "875    (10, 30]\n",
      "876    (10, 30]\n",
      "877    (10, 30]\n",
      "878         NaN\n",
      "879    (30, 60]\n",
      "880    (10, 30]\n",
      "881    (30, 60]\n",
      "882    (10, 30]\n",
      "883    (10, 30]\n",
      "884    (10, 30]\n",
      "885    (30, 60]\n",
      "886    (10, 30]\n",
      "887    (10, 30]\n",
      "888         NaN\n",
      "889    (10, 30]\n",
      "890    (30, 60]\n",
      "Name: age, Length: 891, dtype: category\n",
      "Categories (4, interval[int64]): [(0, 10] < (10, 30] < (30, 60] < (60, 80]]\n"
     ]
    }
   ],
   "source": [
    "#Question 125\n",
    "import pandas as pd\n",
    "import numpy as np\n",
    "df = pd.read_excel('D:\\ML MASTERS AND DEPLOYMENT\\Titanic.xlsx')\n",
    "result = pd.cut(df['age'], [0, 10, 30, 60, 80])\n",
    "print(result)\n"
   ]
  },
  {
   "cell_type": "code",
   "execution_count": 23,
   "metadata": {},
   "outputs": [
    {
     "name": "stdout",
     "output_type": "stream",
     "text": [
      "fare            (-0.001, 14.454]                     (14.454, 512.329]                    \n",
      "pclass                         1         2         3                 1         2         3\n",
      "sex    age                                                                                \n",
      "female (10, 30]              NaN       NaN  0.800000          0.000000  1.000000  0.411765\n",
      "       (30, 60]              NaN  0.933333  0.568182          0.970588  0.904762  0.307692\n",
      "       NaN                   NaN  0.846154  0.142857          0.979167  0.941176  0.333333\n",
      "       (0, 10]               NaN       NaN  1.000000          1.000000       NaN       NaN\n",
      "male   (10, 30]              NaN       NaN  1.000000          1.000000  1.000000  0.263158\n",
      "       (30, 60]              NaN  0.034483  0.140625          0.458333  0.000000  0.130435\n",
      "       NaN                   0.0  0.130435  0.109375          0.440678  0.047619  0.166667\n",
      "       (0, 10]               NaN  0.333333  0.000000          0.083333       NaN       NaN\n"
     ]
    }
   ],
   "source": [
    "#Question 126\n",
    "import pandas as pd\n",
    "import numpy as np\n",
    "df = pd.read_excel('D:\\ML MASTERS AND DEPLOYMENT\\Titanic.xlsx')\n",
    "fare = pd.qcut(df['fare'], 2)\n",
    "age = pd.cut(df['age'], [0, 10, 30, 60, 80])\n",
    "result = df.pivot_table('survived', index=['sex', age], columns=[fare, 'pclass'])\n",
    "print(result)\n"
   ]
  },
  {
   "cell_type": "code",
   "execution_count": 1,
   "metadata": {},
   "outputs": [
    {
     "name": "stdout",
     "output_type": "stream",
     "text": [
      "       adult_male            age          alive           alone ...  parch  \\\n",
      "pclass          1    2    3    1   2    3     1    2    3     1 ...      3   \n",
      "sex                                                             ...          \n",
      "female         94   76  144   85  74  102    94   76  144    94 ...    144   \n",
      "male          122  108  347  101  99  253   122  108  347   122 ...    347   \n",
      "\n",
      "       sibsp           survived            who            \n",
      "pclass     1    2    3        1    2    3    1    2    3  \n",
      "sex                                                       \n",
      "female    94   76  144       94   76  144   94   76  144  \n",
      "male     122  108  347      122  108  347  122  108  347  \n",
      "\n",
      "[2 rows x 39 columns]\n"
     ]
    }
   ],
   "source": [
    "#Question 127\n",
    "import pandas as pd\n",
    "import numpy as np\n",
    "df = pd.read_excel('D:\\ML MASTERS AND DEPLOYMENT\\Titanic.xlsx')\n",
    "result = df.pivot_table(index=['sex'], columns=['pclass'], aggfunc='count')\n",
    "print(result)\n"
   ]
  },
  {
   "cell_type": "code",
   "execution_count": 3,
   "metadata": {},
   "outputs": [
    {
     "name": "stdout",
     "output_type": "stream",
     "text": [
      "class            First    Second     Third\n",
      "sex    alone                              \n",
      "female False  0.966667  0.931818  0.416667\n",
      "       True   0.970588  0.906250  0.616667\n",
      "male   False  0.425532  0.277778  0.180723\n",
      "       True   0.333333  0.097222  0.121212\n"
     ]
    }
   ],
   "source": [
    "#Question 128\n",
    "import pandas as pd\n",
    "import numpy as np\n",
    "df = pd.read_excel('D:\\ML MASTERS AND DEPLOYMENT\\Titanic.xlsx')\n",
    "result = df.pivot_table( 'survived' , [ 'sex' , 'alone' ] , 'class' )\n",
    "print(result)\n"
   ]
  },
  {
   "cell_type": "code",
   "execution_count": null,
   "metadata": {},
   "outputs": [],
   "source": [
    "#Question 129\n",
    "import pandas as pd\n",
    "import numpy as np\n",
    "df = pd.read_excel('D:\\ML MASTERS AND DEPLOYMENT\\Titanic.xlsx')\n",
    "result = df.pivot_table('survived', ['sex' , 'alone' ], [ 'embark_town', 'class' ])\n",
    "print(result)\n"
   ]
  },
  {
   "cell_type": "code",
   "execution_count": 9,
   "metadata": {},
   "outputs": [
    {
     "name": "stdout",
     "output_type": "stream",
     "text": [
      "Original Dataframe:\n",
      "            Date_time                  city state/province country UFO_shape  \\\n",
      "0 1910-06-01 15:00:00           wills point             tx      us     cigar   \n",
      "1 1920-06-11 21:00:00                cicero             in      us   unknown   \n",
      "2 1929-07-05 14:00:00  buchanan  (or burns)             or      us      disk   \n",
      "3 1931-06-01 13:00:00               abilene             ks      us      disk   \n",
      "4 1939-06-01 20:00:00              waterloo             al      us  fireball   \n",
      "\n",
      "   length_of_encounter_seconds described_duration_of_encounter  \\\n",
      "0                          120                       2 minutes   \n",
      "1                           60                        1 minute   \n",
      "2                           60                            1min   \n",
      "3                         1800                 30 min. approx.   \n",
      "4                          300                       5 minutes   \n",
      "\n",
      "                                         description date_documented  \\\n",
      "0       Cigar shaped object moving from West to East      2005-04-16   \n",
      "1  ((NUFORC Note:  Probable hoax.  Note date.  PD...      2009-05-12   \n",
      "2  we were traveling east of burns&#44clmbing up ...      2002-08-16   \n",
      "3  This is a what my mother related to me regardi...      2006-02-14   \n",
      "4  4 high school students see bright&#44 ground-l...      2014-02-21   \n",
      "\n",
      "    latitude   longitude  \n",
      "0  32.709167  -96.008056  \n",
      "1  40.123889  -86.013333  \n",
      "2  43.642500 -118.627500  \n",
      "3  38.917222  -97.213611  \n",
      "4  34.918056  -88.064167  \n",
      "\n",
      "Current date of Ufo dataset:\n",
      "2004-12-08 05:30:00\n",
      "\n",
      "Oldest date of Ufo dataset:\n",
      "1910-06-01 15:00:00\n",
      "\n",
      "Number of days between Current date and oldest date of Ufo dataset:\n",
      "34523\n"
     ]
    }
   ],
   "source": [
    "#Question 130\n",
    "import pandas as pd\n",
    "df = pd.read_excel('D:\\ML MASTERS AND DEPLOYMENT\\_ufo.xlsx')\n",
    "df['Date_time'] = df['Date_time'].astype('datetime64[ns]')\n",
    "print(\"Original Dataframe:\")\n",
    "print(df.head())\n",
    "print(\"\\nCurrent date of Ufo dataset:\")\n",
    "print(df.Date_time.max())\n",
    "print(\"\\nOldest date of Ufo dataset:\")\n",
    "print(df.Date_time.min())\n",
    "print(\"\\nNumber of days between Current date and oldest date of Ufo dataset:\")\n",
    "print((df.Date_time.max() - df.Date_time.min()).days)\n",
    "\n"
   ]
  },
  {
   "cell_type": "code",
   "execution_count": 12,
   "metadata": {},
   "outputs": [
    {
     "name": "stdout",
     "output_type": "stream",
     "text": [
      "Original Dataframe:\n",
      "            Date_time                  city state/province country UFO_shape  \\\n",
      "0 1910-06-01 15:00:00           wills point             tx      us     cigar   \n",
      "1 1920-06-11 21:00:00                cicero             in      us   unknown   \n",
      "2 1929-07-05 14:00:00  buchanan  (or burns)             or      us      disk   \n",
      "3 1931-06-01 13:00:00               abilene             ks      us      disk   \n",
      "4 1939-06-01 20:00:00              waterloo             al      us  fireball   \n",
      "\n",
      "   length_of_encounter_seconds described_duration_of_encounter  \\\n",
      "0                          120                       2 minutes   \n",
      "1                           60                        1 minute   \n",
      "2                           60                            1min   \n",
      "3                         1800                 30 min. approx.   \n",
      "4                          300                       5 minutes   \n",
      "\n",
      "                                         description date_documented  \\\n",
      "0       Cigar shaped object moving from West to East      2005-04-16   \n",
      "1  ((NUFORC Note:  Probable hoax.  Note date.  PD...      2009-05-12   \n",
      "2  we were traveling east of burns&#44clmbing up ...      2002-08-16   \n",
      "3  This is a what my mother related to me regardi...      2006-02-14   \n",
      "4  4 high school students see bright&#44 ground-l...      2014-02-21   \n",
      "\n",
      "    latitude   longitude  \n",
      "0  32.709167  -96.008056  \n",
      "1  40.123889  -86.013333  \n",
      "2  43.642500 -118.627500  \n",
      "3  38.917222  -97.213611  \n",
      "4  34.918056  -88.064167  \n",
      "\n",
      "Sighting days of the unidentified flying object (ufo) between 1949-10-10 and 1960-10-10:\n",
      "             Date_time                           city state/province country  \\\n",
      "29 1950-06-01 16:00:00                   philadelphia             ms      us   \n",
      "30 1950-06-01 20:00:00                     pittsburgh             pa      us   \n",
      "31 1950-08-01 04:00:00                     louisville             ky      us   \n",
      "32 1950-10-01 11:00:00                      pikeville             ky      us   \n",
      "33 1951-06-01 07:00:00               brandon (canada)             mb      ca   \n",
      "34 1951-07-01 03:00:00                  otis orchards             wa      us   \n",
      "35 1951-02-03 22:00:00                  thompsonville             ct      us   \n",
      "36 1951-06-03 13:00:00                         jasper             nc      us   \n",
      "37 1952-07-01 15:00:00                         sebeka             mn      us   \n",
      "38 1952-07-01 22:00:00                        detroit             mi      us   \n",
      "39 1952-08-01 21:30:00                          tampa             fl      us   \n",
      "40 1952-10-01 12:00:00                    kansas city             mo      us   \n",
      "41 1953-04-01 15:00:00                      haverhill             ma      us   \n",
      "42 1953-04-01 18:00:00                      cambridge             ma      us   \n",
      "43 1953-07-01 05:30:00  colorado springs (mtsn nw of)             co      us   \n",
      "44 1953-08-01 12:00:00                       berkeley             mo      us   \n",
      "45 1954-02-01 02:00:00                      fairbanks             ak      us   \n",
      "46 1954-06-01 00:00:00                        houston             tx      us   \n",
      "47 1954-06-01 06:00:00                           ovid             ny      us   \n",
      "48 1954-06-01 08:00:00  springfield (rural area near)             il      us   \n",
      "49 1955-05-01 15:00:00                       holbrook             ma      us   \n",
      "50 1955-06-01 02:00:00                         bagley             mn      us   \n",
      "51 1955-06-01 15:29:00                     cincinnati             oh      us   \n",
      "52 1955-06-01 17:00:00           martinez (outskirts)             ca      us   \n",
      "53 1956-01-01 05:30:00                        weirton             wv      us   \n",
      "54 1956-03-01 13:00:00                       petaluma             ca      us   \n",
      "55 1956-05-01 12:00:00                         canton             oh      us   \n",
      "56 1956-06-01 19:00:00                         belton             mo      us   \n",
      "57 1957-01-01 21:00:00                         dallas             tx      us   \n",
      "58 1957-05-01 12:00:00                         canton             oh      us   \n",
      "59 1957-06-01 10:00:00                        el paso             tx      us   \n",
      "60 1957-06-01 20:00:00                    glens falls             ny      us   \n",
      "61 1958-01-01 22:00:00                            pep             tx      us   \n",
      "62 1958-06-01 02:00:00                      middlesex             nc      us   \n",
      "63 1958-06-01 19:00:00                  san francisco             ca      us   \n",
      "64 1958-06-01 21:00:00          new york city (bronx)             ny      us   \n",
      "65 1959-04-01 01:00:00                          miami             fl      us   \n",
      "66 1959-05-01 18:30:00                       columbus             oh      us   \n",
      "67 1959-06-01 12:00:00                         orange             ct      us   \n",
      "68 1959-06-01 18:30:00                         sidney             oh      us   \n",
      "69 1960-02-01 22:15:00                       st. paul             mn      us   \n",
      "70 1960-02-01 23:00:00                       hartwell             ga      us   \n",
      "71 1960-04-01 21:00:00                        houston             tx      us   \n",
      "72 1960-05-01 20:00:00                         tucson             az      us   \n",
      "\n",
      "   UFO_shape  length_of_encounter_seconds described_duration_of_encounter  \\\n",
      "29      disk                          600             ten minutes or less   \n",
      "30      oval                         1500                   20/25 minutes   \n",
      "31     other                           60                        1 minute   \n",
      "32      disk                          600                              hr   \n",
      "33      disk                         1800                      30 minutes   \n",
      "34      disk                          120                      ~2 minutes   \n",
      "35      disk                           30                      30 seconds   \n",
      "36      oval                          300                       5 minutes   \n",
      "37     other                         1800                          30 min   \n",
      "38    sphere                          300                       5 minutes   \n",
      "39      oval                         9000                  2 hrs. 30 min.   \n",
      "40      disk                           90                         90 sec.   \n",
      "41   chevron                            2                         seconds   \n",
      "42    sphere                          180                       3 minutes   \n",
      "43      disk                           10                      10 seconds   \n",
      "44  fireball                          300                       5 minutes   \n",
      "45   unknown                         1140                         19 min.   \n",
      "46      disk                          180                     2-3 minutes   \n",
      "47      disk                          600                         10 min.   \n",
      "48  cylinder                          600                      5-10 mins.   \n",
      "49       egg                           60                        1 minute   \n",
      "50    circle                         7200                         2 hours   \n",
      "51      disk                          120               approx. 1-1/2 min   \n",
      "52    circle                         1800                      30 minutes   \n",
      "53      disk                           10                      10 seconds   \n",
      "54      oval                         1800                      30 minutes   \n",
      "55     cigar                          120                       2 minutes   \n",
      "56     other                          600                          10min.   \n",
      "57   unknown                           20                      20 seconds   \n",
      "58     cigar                          180                       3 minutes   \n",
      "59      disk                            7                  5 to 7 seconds   \n",
      "60      disk                          240                         3or4min   \n",
      "61  fireball                            2                            2sec   \n",
      "62    circle                         3600                          1 hour   \n",
      "63      oval                          120                       2 minutes   \n",
      "64      oval                           10                      10 seconds   \n",
      "65    sphere                         2700                   30-45 minutes   \n",
      "66     light                          180                         2-3 min   \n",
      "67  cylinder                         3600                         1 hour?   \n",
      "68     light                          300                       5 minutes   \n",
      "69     cigar                            3                       3 seconds   \n",
      "70     cigar                           45         approx 30 to 45 seconds   \n",
      "71     other                          300                      <5 minutes   \n",
      "72     light                          300                     4-5 minutes   \n",
      "\n",
      "                                          description date_documented  \\\n",
      "29  Childhood sighting of disk witnessed by mother...      2008-03-12   \n",
      "30  One larger white object &amp; 2 smaller round ...      2006-02-14   \n",
      "31  In 1953&#44 at the age of 3 years old I was Co...      2011-10-19   \n",
      "32        SEVENTY SOME  FLYING DISK OBSERVED IN  1950      2005-04-16   \n",
      "33  Circular Craft and Man in Black Sighted in Sum...      2001-02-18   \n",
      "34  Cigar shaped Disc darting back and forth (East...      2013-12-23   \n",
      "35  A golden-orange glowing bowl&#44 flat on top&#...      2004-07-25   \n",
      "36  MIDDAY OVAL SHAPE&#44 ANITQUE COLOR OBJECT SIT...      2005-06-20   \n",
      "37  Silver donut shape object sighted over rural M...      2011-12-12   \n",
      "38  object sits stationary for 5 minutes and then ...      2003-10-31   \n",
      "39  Triangulation radar fix (USAF&#44 civil&#44 Na...      2000-12-02   \n",
      "40  1952 daylight sighting of multiple discs in fo...      2008-10-31   \n",
      "41                Historical account&#44 Haverhill MA      2005-09-02   \n",
      "42  Two red-orange lights skirted Boston rooftops ...      2013-07-14   \n",
      "43  Absolutely huge UFO hovered 40 feet above hous...      2004-07-25   \n",
      "44    Early 50&#39s sighting in Berkeley&#44 Missouri      2004-01-22   \n",
      "45  RADAR INTERCEPT OF UFO BY USAF PILOT IN ALASKA...      2009-01-10   \n",
      "46  I fulfilled my duty by passing on an unusual a...      2008-06-12   \n",
      "47  I saw two silver/gray objects of different sha...      2001-12-05   \n",
      "48  This happened many years ago when I was a chil...      2000-12-02   \n",
      "49  I turned around and over the trees was a large...      2005-04-16   \n",
      "50  I was 5 years old at the time&#44 family of 4 ...      1999-05-24   \n",
      "51  June 1955.  Bronze saucer/cylindrical craft; a...      2003-06-18   \n",
      "52  We observed a large object aprox.size &quot;fo...      2000-02-16   \n",
      "53  My Uncle Sam was driving to work very early on...      2000-01-07   \n",
      "54  Objects were several thousand feet in altitude...      1999-01-28   \n",
      "55  At first the silver disc was stationary. As it...      2005-09-15   \n",
      "56  THE EVENT WAS A PERSONAL CONTACT WITH AN ALIEN...      1999-01-28   \n",
      "57  I was flying the first of 4 USAF aircraft on a...      2004-08-24   \n",
      "58  Cigar shaped object is motionless for more tha...      2004-04-27   \n",
      "59  The UFO did not make any sounds.  The craft&#3...      2002-07-26   \n",
      "60  there was no mistakeing what i was looking at ...      2000-12-02   \n",
      "61  Green fire balls&#44 Texas Panhandle&#44 late ...      2009-12-12   \n",
      "62                               white glowing lights      2006-03-11   \n",
      "63  A low flying huge silver flying saucer positio...      2003-10-31   \n",
      "64  7 brightly illuminated elliptical discs racing...      2005-04-16   \n",
      "65  1959 childhood encounter with a spherical&#44 ...      2008-02-14   \n",
      "66  Red-orange lights over seen motionless over Lo...      2002-02-22   \n",
      "67  Sighted craft and transport of object to the g...      2009-03-19   \n",
      "68  Saw a bright light shining down.  Pulled over ...      2007-04-27   \n",
      "69  A cigar-shaped UFO glided down towards the ear...      2000-03-16   \n",
      "70  My father explained an event of a large cigar-...      2005-04-16   \n",
      "71  Sharp right angle turn in flight direction aft...      2003-12-19   \n",
      "72  Lights only&#44 no sound&#44 moving across the...      2005-09-02   \n",
      "\n",
      "     latitude   longitude  \n",
      "29  32.771389  -89.116667  \n",
      "30  40.440556  -79.996111  \n",
      "31  38.254167  -85.759444  \n",
      "32  37.479167  -82.518889  \n",
      "33  49.833333  -99.950000  \n",
      "34  47.700556 -117.105278  \n",
      "35  41.996944  -72.599444  \n",
      "36  35.201389  -77.206944  \n",
      "37  46.630000  -95.088611  \n",
      "38  42.331389  -83.045833  \n",
      "39  27.947222  -82.458611  \n",
      "40  39.099722  -94.578333  \n",
      "41  42.776111  -71.077778  \n",
      "42  42.375000  -71.106111  \n",
      "43  38.833889 -104.820833  \n",
      "44  38.754444  -90.331111  \n",
      "45  64.837778 -147.716389  \n",
      "46  29.763056  -95.363056  \n",
      "47  42.676389  -76.823333  \n",
      "48  39.801667  -89.643611  \n",
      "49  42.155000  -71.009167  \n",
      "50  47.521667  -95.398056  \n",
      "51  39.161944  -84.456944  \n",
      "52  38.019444 -122.133056  \n",
      "53  40.418889  -80.589722  \n",
      "54  38.232500 -122.635556  \n",
      "55  40.798889  -81.378611  \n",
      "56  38.811944  -94.531667  \n",
      "57  32.783333  -96.800000  \n",
      "58  40.798889  -81.378611  \n",
      "59  31.758611 -106.486389  \n",
      "60  43.309444  -73.644444  \n",
      "61  33.816111 -102.557778  \n",
      "62  35.790000  -78.204167  \n",
      "63  37.775000 -122.418333  \n",
      "64  40.714167  -74.006389  \n",
      "65  25.773889  -80.193889  \n",
      "66  39.961111  -82.998889  \n",
      "67  41.278333  -73.026111  \n",
      "68  40.284167  -84.155556  \n",
      "69  44.944444  -93.093056  \n",
      "70  34.352778  -82.932222  \n",
      "71  29.763056  -95.363056  \n",
      "72  32.221667 -110.925833  \n"
     ]
    }
   ],
   "source": [
    "#Question 131\n",
    "import pandas as pd\n",
    "df = pd.read_excel('D:\\ML MASTERS AND DEPLOYMENT\\_ufo.xlsx')\n",
    "print(\"Original Dataframe:\")\n",
    "print(df.head())\n",
    "print(\"\\nSighting days of the unidentified flying object (ufo) between 1949-10-10 and 1960-10-10:\")\n",
    "selected_period = df[(df['Date_time'] >= '1950-01-01 00:00:00') & (df['Date_time'] <= '1960-12-31 23:59:59')]\n",
    "print(selected_period)\n"
   ]
  },
  {
   "cell_type": "code",
   "execution_count": 14,
   "metadata": {},
   "outputs": [
    {
     "name": "stdout",
     "output_type": "stream",
     "text": [
      "Original Dataframe:\n",
      "            Date_time                  city state/province country UFO_shape  \\\n",
      "0 1910-06-01 15:00:00           wills point             tx      us     cigar   \n",
      "1 1920-06-11 21:00:00                cicero             in      us   unknown   \n",
      "2 1929-07-05 14:00:00  buchanan  (or burns)             or      us      disk   \n",
      "3 1931-06-01 13:00:00               abilene             ks      us      disk   \n",
      "4 1939-06-01 20:00:00              waterloo             al      us  fireball   \n",
      "\n",
      "   length_of_encounter_seconds described_duration_of_encounter  \\\n",
      "0                          120                       2 minutes   \n",
      "1                           60                        1 minute   \n",
      "2                           60                            1min   \n",
      "3                         1800                 30 min. approx.   \n",
      "4                          300                       5 minutes   \n",
      "\n",
      "                                         description date_documented  \\\n",
      "0       Cigar shaped object moving from West to East      2005-04-16   \n",
      "1  ((NUFORC Note:  Probable hoax.  Note date.  PD...      2009-05-12   \n",
      "2  we were traveling east of burns&#44clmbing up ...      2002-08-16   \n",
      "3  This is a what my mother related to me regardi...      2006-02-14   \n",
      "4  4 high school students see bright&#44 ground-l...      2014-02-21   \n",
      "\n",
      "    latitude   longitude  \n",
      "0  32.709167  -96.008056  \n",
      "1  40.123889  -86.013333  \n",
      "2  43.642500 -118.627500  \n",
      "3  38.917222  -97.213611  \n",
      "4  34.918056  -88.064167  \n",
      "\n",
      "Year:\n",
      "0    1910\n",
      "1    1920\n",
      "2    1929\n",
      "3    1931\n",
      "4    1939\n",
      "Name: Date_time, dtype: int64\n",
      "\n",
      "Month:\n",
      "0    6\n",
      "1    6\n",
      "2    7\n",
      "3    6\n",
      "4    6\n",
      "Name: Date_time, dtype: int64\n",
      "\n",
      "Day:\n",
      "0     1\n",
      "1    11\n",
      "2     5\n",
      "3     1\n",
      "4     1\n",
      "Name: Date_time, dtype: int64\n",
      "\n",
      "Hour:\n",
      "0    15\n",
      "1    21\n",
      "2    14\n",
      "3    13\n",
      "4    20\n",
      "Name: Date_time, dtype: int64\n",
      "\n",
      "Minute:\n",
      "0    0\n",
      "1    0\n",
      "2    0\n",
      "3    0\n",
      "4    0\n",
      "Name: Date_time, dtype: int64\n",
      "\n",
      "Second:\n",
      "0    0\n",
      "1    0\n",
      "2    0\n",
      "3    0\n",
      "4    0\n",
      "Name: Date_time, dtype: int64\n"
     ]
    }
   ],
   "source": [
    "#Question 132\n",
    "import pandas as pd\n",
    "df = pd.read_excel('D:\\ML MASTERS AND DEPLOYMENT\\_ufo.xlsx')\n",
    "print(\"Original Dataframe:\")\n",
    "print(df.head())\n",
    "print(\"\\nYear:\")\n",
    "print(df.Date_time.dt.year.head())\n",
    "print(\"\\nMonth:\")\n",
    "print(df.Date_time.dt.month.head())\n",
    "print(\"\\nDay:\")\n",
    "print(df.Date_time.dt.day.head())\n",
    "print(\"\\nHour:\")\n",
    "print(df.Date_time.dt.hour.head())\n",
    "print(\"\\nMinute:\")\n",
    "print(df.Date_time.dt.minute.head())\n",
    "print(\"\\nSecond:\")\n",
    "print(df.Date_time.dt.second.head())\n"
   ]
  },
  {
   "cell_type": "code",
   "execution_count": 17,
   "metadata": {},
   "outputs": [
    {
     "name": "stdout",
     "output_type": "stream",
     "text": [
      "Original Dataframe:\n",
      "            Date_time                  city state/province country UFO_shape  \\\n",
      "0 1910-06-01 15:00:00           wills point             tx      us     cigar   \n",
      "1 1920-06-11 21:00:00                cicero             in      us   unknown   \n",
      "2 1929-07-05 14:00:00  buchanan  (or burns)             or      us      disk   \n",
      "3 1931-06-01 13:00:00               abilene             ks      us      disk   \n",
      "4 1939-06-01 20:00:00              waterloo             al      us  fireball   \n",
      "\n",
      "   length_of_encounter_seconds described_duration_of_encounter  \\\n",
      "0                          120                       2 minutes   \n",
      "1                           60                        1 minute   \n",
      "2                           60                            1min   \n",
      "3                         1800                 30 min. approx.   \n",
      "4                          300                       5 minutes   \n",
      "\n",
      "                                         description date_documented  \\\n",
      "0       Cigar shaped object moving from West to East      2005-04-16   \n",
      "1  ((NUFORC Note:  Probable hoax.  Note date.  PD...      2009-05-12   \n",
      "2  we were traveling east of burns&#44clmbing up ...      2002-08-16   \n",
      "3  This is a what my mother related to me regardi...      2006-02-14   \n",
      "4  4 high school students see bright&#44 ground-l...      2014-02-21   \n",
      "\n",
      "    latitude   longitude  \n",
      "0  32.709167  -96.008056  \n",
      "1  40.123889  -86.013333  \n",
      "2  43.642500 -118.627500  \n",
      "3  38.917222  -97.213611  \n",
      "4  34.918056  -88.064167  \n",
      "\n",
      "Country-year wise frequency of reporting dates of UFO:\n",
      "Year  country\n",
      "1910  us          1\n",
      "1920  us          1\n",
      "1929  us          1\n",
      "1931  us          1\n",
      "1939  us          2\n",
      "1941  us          1\n",
      "1942  us          1\n",
      "1944  us          3\n",
      "1945  us          4\n",
      "1946  us          3\n",
      "1947  us          4\n",
      "1948  us          3\n",
      "1949  us          4\n",
      "1950  us          4\n",
      "1951  ca          1\n",
      "      us          3\n",
      "1952  us          4\n",
      "1953  us          4\n",
      "1954  us          4\n",
      "1955  us          4\n",
      "1956  us          4\n",
      "1957  us          4\n",
      "1958  us          4\n",
      "1959  us          4\n",
      "1960  us          4\n",
      "1961  us          4\n",
      "1962  us          4\n",
      "1963  us          4\n",
      "1964  us          4\n",
      "1965  us          4\n",
      "                 ..\n",
      "1984  us          4\n",
      "1985  us          4\n",
      "1986  us          4\n",
      "1987  us          4\n",
      "1988  us          4\n",
      "1989  ca          1\n",
      "      us          3\n",
      "1990  us          4\n",
      "1991  us          4\n",
      "1992  us          8\n",
      "1993  ca          1\n",
      "      us         11\n",
      "1994  ca          1\n",
      "      us         10\n",
      "1995  ca          1\n",
      "      us         11\n",
      "1996  us         12\n",
      "1997  ca          1\n",
      "      us         13\n",
      "1998  us         13\n",
      "1999  us         11\n",
      "2000  ca          1\n",
      "      us         11\n",
      "2001  ca          1\n",
      "      us         14\n",
      "2002  ca          1\n",
      "      us         13\n",
      "2003  us          9\n",
      "2004  ca          1\n",
      "      us          6\n",
      "Length: 79, dtype: int64\n"
     ]
    }
   ],
   "source": [
    "#Question 133\n",
    "import pandas as pd\n",
    "df = pd.read_excel('D:\\ML MASTERS AND DEPLOYMENT\\_ufo.xlsx')\n",
    "print(\"Original Dataframe:\")\n",
    "print(df.head())\n",
    "df['Year'] = df['Date_time'].apply(lambda x: \"%d\" % (x.year))\n",
    "result = df.groupby(['Year', 'country']).size()\n",
    "print(\"\\nCountry-year wise frequency of reporting dates of UFO:\")\n",
    "print(result)\n"
   ]
  },
  {
   "cell_type": "code",
   "execution_count": 19,
   "metadata": {},
   "outputs": [
    {
     "name": "stdout",
     "output_type": "stream",
     "text": [
      "Original Dataframe:\n",
      "            Date_time                  city state/province country UFO_shape  \\\n",
      "0 1910-06-01 15:00:00           wills point             tx      us     cigar   \n",
      "1 1920-06-11 21:00:00                cicero             in      us   unknown   \n",
      "2 1929-07-05 14:00:00  buchanan  (or burns)             or      us      disk   \n",
      "3 1931-06-01 13:00:00               abilene             ks      us      disk   \n",
      "4 1939-06-01 20:00:00              waterloo             al      us  fireball   \n",
      "\n",
      "   length_of_encounter_seconds described_duration_of_encounter  \\\n",
      "0                          120                       2 minutes   \n",
      "1                           60                        1 minute   \n",
      "2                           60                            1min   \n",
      "3                         1800                 30 min. approx.   \n",
      "4                          300                       5 minutes   \n",
      "\n",
      "                                         description date_documented  \\\n",
      "0       Cigar shaped object moving from West to East      2005-04-16   \n",
      "1  ((NUFORC Note:  Probable hoax.  Note date.  PD...      2009-05-12   \n",
      "2  we were traveling east of burns&#44clmbing up ...      2002-08-16   \n",
      "3  This is a what my mother related to me regardi...      2006-02-14   \n",
      "4  4 high school students see bright&#44 ground-l...      2014-02-21   \n",
      "\n",
      "    latitude   longitude  \n",
      "0  32.709167  -96.008056  \n",
      "1  40.123889  -86.013333  \n",
      "2  43.642500 -118.627500  \n",
      "3  38.917222  -97.213611  \n",
      "4  34.918056  -88.064167  \n",
      "\n",
      "Difference (in days) between documented date and reporting date of UFO:\n",
      "              Date_time                       city state/province country  \\\n",
      "0   1910-06-01 15:00:00                wills point             tx      us   \n",
      "1   1920-06-11 21:00:00                     cicero             in      us   \n",
      "2   1929-07-05 14:00:00       buchanan  (or burns)             or      us   \n",
      "3   1931-06-01 13:00:00                    abilene             ks      us   \n",
      "4   1939-06-01 20:00:00                   waterloo             al      us   \n",
      "5   1939-07-07 02:00:00                     keokuk             ia      us   \n",
      "6   1941-06-01 13:00:00    ludington (hamlin lake)             mi      us   \n",
      "7   1942-06-01 22:30:00                  hapeville             ga      us   \n",
      "8   1944-01-01 12:00:00                  san diego             ca      us   \n",
      "9   1944-06-01 12:00:00                 los alamos             nm      us   \n",
      "10  1944-04-02 11:00:00                     clovis             nm      us   \n",
      "11  1945-06-01 13:30:00                     jasper             fl      us   \n",
      "12  1945-06-07 07:00:00              winston-salem             nc      us   \n",
      "13  1945-08-08 12:00:00           huntington beach             ca      us   \n",
      "14  1945-07-10 01:30:00                 portsmouth             va      us   \n",
      "15  1946-02-01 17:00:00                     merced             ca      us   \n",
      "16  1946-07-01 13:30:00             south portland             me      us   \n",
      "17  1946-01-08 02:00:00   new york city (brooklyn)             ny      us   \n",
      "18  1947-06-01 02:30:00                  cleveland             oh      us   \n",
      "19  1947-06-01 17:00:00      espanola (outside of)             nm      us   \n",
      "20  1947-07-01 20:00:00                   cashmere             wa      us   \n",
      "21  1947-07-01 20:00:00                    maywood             ca      us   \n",
      "22  1948-08-01 02:00:00   new york city (brooklyn)             ny      us   \n",
      "23  1948-05-10 19:00:00                     scipio             in      us   \n",
      "24  1948-12-12 23:30:00                 sharpsburg             md      us   \n",
      "25  1949-05-01 14:00:00          oak ridge (drive)             wv      us   \n",
      "26  1949-07-01 11:00:00                  fairbanks             ak      us   \n",
      "27  1949-07-01 16:00:00                     marion             al      us   \n",
      "28  1949-04-10 15:00:00                    seattle             wa      us   \n",
      "29  1950-06-01 16:00:00               philadelphia             ms      us   \n",
      "..                  ...                        ...            ...     ...   \n",
      "317 2002-03-01 06:15:00                     naples             fl      us   \n",
      "318 2002-08-01 15:25:00                 south bend             in      us   \n",
      "319 2002-01-02 17:30:00                osage beach             mo      us   \n",
      "320 2002-07-03 01:00:00                      akron             oh      us   \n",
      "321 2002-07-04 20:23:00             san bernardino             ca      us   \n",
      "322 2002-09-05 23:00:00                    houston             tx      us   \n",
      "323 2002-10-05 23:00:00                    alameda             ca      us   \n",
      "324 2002-05-06 15:50:00       st. louis (kirkwood)             mo      us   \n",
      "325 2002-01-07 18:00:00            fort washington             md      us   \n",
      "326 2002-09-08 16:00:00  new york city (manhattan)             ny      us   \n",
      "327 2002-05-09 18:00:00          winnipeg (canada)             mb      ca   \n",
      "328 2002-05-10 23:30:00                  san diego             ca      us   \n",
      "329 2002-01-11 18:45:00              daytona beach             fl      us   \n",
      "330 2002-02-12 20:00:00                     lorain             oh      us   \n",
      "331 2003-04-01 01:00:00                    holmdel             nj      us   \n",
      "332 2003-10-02 02:45:00                  kerrville             tx      us   \n",
      "333 2003-11-04 20:00:00                  belvidere             nc      us   \n",
      "334 2003-01-06 10:10:00                  montclair             ca      us   \n",
      "335 2003-05-07 02:00:00                  jonesboro             ar      us   \n",
      "336 2003-07-08 00:30:00             grand junction             co      us   \n",
      "337 2003-04-09 21:00:00                 santa rosa             ca      us   \n",
      "338 2003-03-10 20:52:00             warner springs             ca      us   \n",
      "339 2003-07-11 20:50:00                     golden             co      us   \n",
      "340 2004-02-01 01:00:00                 south bend             in      us   \n",
      "341 2004-10-02 18:20:00                west covina             ca      us   \n",
      "342 2004-04-05 20:35:00                      miami             fl      us   \n",
      "343 2004-10-06 23:00:00                placerville             ca      us   \n",
      "344 2004-11-07 20:30:00              lavina (near)             mt      us   \n",
      "345 2004-12-08 05:30:00          montreal (canada)             qc      ca   \n",
      "346 2004-02-10 05:15:00                  mansfield             oh      us   \n",
      "\n",
      "     UFO_shape  length_of_encounter_seconds described_duration_of_encounter  \\\n",
      "0        cigar                          120                       2 minutes   \n",
      "1      unknown                           60                        1 minute   \n",
      "2         disk                           60                            1min   \n",
      "3         disk                         1800                 30 min. approx.   \n",
      "4     fireball                          300                       5 minutes   \n",
      "5         oval                          600                      10 minutes   \n",
      "6         disk                           30                      30 seconds   \n",
      "7      unknown                          180                         2-3 min   \n",
      "8        cigar                          180                       3 minutes   \n",
      "9         disk                         3600                         1+ hour   \n",
      "10        disk                           90                        01:30:00   \n",
      "11    fireball                          300                         5minute   \n",
      "12        disk                            2                         seconds   \n",
      "13        disk                          300                       5 minutes   \n",
      "14   formation                          180                           3 min   \n",
      "15      sphere                           10                      10 seconds   \n",
      "16        oval                           10                  10 seconds +/-   \n",
      "17        disk                          300                           5 min   \n",
      "18       light                          300               about three hours   \n",
      "19      circle                          300                       5 minutes   \n",
      "20   formation                          120                       2 minutes   \n",
      "21        disk                          120                      2  minutes   \n",
      "22      circle                          600                      10 minutes   \n",
      "23      sphere                           10                      10 seconds   \n",
      "24      circle                          180                       3 minutes   \n",
      "25       other                           40                       40seconds   \n",
      "26        disk                          120                       2 minutes   \n",
      "27   formation                           60                  under 1 minute   \n",
      "28        disk                          600                     ten minutes   \n",
      "29        disk                          600             ten minutes or less   \n",
      "..         ...                          ...                             ...   \n",
      "317   triangle                          180                       3 minutes   \n",
      "318       oval                          600                      10 minutes   \n",
      "319      cigar                          600                      10 minutes   \n",
      "320       oval                           20                      20 seconds   \n",
      "321    unknown                           15                      15 sec&#44   \n",
      "322       disk                          120                          2 mins   \n",
      "323      light                            7                       7 seconds   \n",
      "324       disk                          180                  2 or 3 minutes   \n",
      "325   teardrop                            2                         seconds   \n",
      "326     sphere                         7200                           1-2hr   \n",
      "327  formation                         2400                     30to40 mins   \n",
      "328   triangle                          300                       5 minutes   \n",
      "329      light                         3600                more than 1 hour   \n",
      "330       disk                          120                     1-2 minutes   \n",
      "331   fireball                            1                        1 second   \n",
      "332     circle                           15                      15 seconds   \n",
      "333      other                          600                      10 minutes   \n",
      "334   fireball                           10                         10 sec.   \n",
      "335    diamond                           30                      30 seconds   \n",
      "336     sphere                           60                        1 minute   \n",
      "337      other                           40                          40 sec   \n",
      "338      light                          600                         10 min.   \n",
      "339    unknown                          480                     6-8 minutes   \n",
      "340    unknown                         3600                         >1 hour   \n",
      "341    unknown                          600                      10 minutes   \n",
      "342    unknown                           60                        1 minute   \n",
      "343       disk                         3600                          1 hour   \n",
      "344       disk                         3600                    over an hour   \n",
      "345       oval                           30                about 30 seconds   \n",
      "346      other                            3                       3 seconds   \n",
      "\n",
      "                                           description date_documented  \\\n",
      "0         Cigar shaped object moving from West to East      2005-04-16   \n",
      "1    ((NUFORC Note:  Probable hoax.  Note date.  PD...      2009-05-12   \n",
      "2    we were traveling east of burns&#44clmbing up ...      2002-08-16   \n",
      "3    This is a what my mother related to me regardi...      2006-02-14   \n",
      "4    4 high school students see bright&#44 ground-l...      2014-02-21   \n",
      "5       Mother sees UFO above railroad tracks in 1939.      2005-09-02   \n",
      "6    As a boy some 60 plus years ago I saw a round ...      2003-10-07   \n",
      "7         bright object approchjng Venus&#44 1940&#39s      2007-08-07   \n",
      "8    A sighting of one silver or white enlongated c...      2004-07-25   \n",
      "9    Disk hovers over Los Alamos during the develop...      2009-05-12   \n",
      "10   Saw UFO in 1944 over an airbase in New Mexico&...      2005-04-16   \n",
      "11   I belived it would be to our best Intrest to c...      2010-11-21   \n",
      "12   I always thought this sighting should be on an...      2005-09-02   \n",
      "13   MY DAD SAYS HIS AUNT AND UNCLE SAW THIS CRAFT ...      2004-01-17   \n",
      "14   1945  RED  FLICKERING  V FORMATION  CRAFTS  MO...      2003-11-26   \n",
      "15   Three luminescent chartreusse spheres moving &...      2005-10-11   \n",
      "16   motionless&#44 dark oblong&#44 noon sky over o...      2008-06-12   \n",
      "17   Huge round silver disk hovering over neighbors...      2008-03-04   \n",
      "18   It was about 2:15 in the morning when my wife ...      2001-04-28   \n",
      "19      Saucer shaped object  about  ten feet in diam.      2013-08-30   \n",
      "20   THE SIGHTING.&#9;It was a clear&#44 summer&#82...      2005-04-16   \n",
      "21   1947 UFO sighting Date: ? sometime in early su...      2005-04-16   \n",
      "22   A round overing craft over neighbors roof&#44 ...      2005-09-15   \n",
      "23   Round red glowing ball going west in Northern ...      2005-04-16   \n",
      "24   Small UFO at 100&#39&#44  airspeed less than 2...      2009-03-19   \n",
      "25   log shape whooshing object observed near charl...      2002-03-19   \n",
      "26      Enormous metallic disc in Alaska sky&#44 1949.      2013-12-23   \n",
      "27   GEORGIA UFO GROUP Report/Tom Sheets:  Witness ...      2004-08-24   \n",
      "28                         UFO Hovers over Seattle sky      2004-04-27   \n",
      "29   Childhood sighting of disk witnessed by mother...      2008-03-12   \n",
      "..                                                 ...             ...   \n",
      "317  Black Triangle&#44 clearly seen slowly moving ...      2002-03-19   \n",
      "318  A red oval-like object flew at constant speed ...      2002-08-16   \n",
      "319  Cigar shaped object seen near Lake of the Ozar...      2002-01-11   \n",
      "320  white oval object seemed to move out of our si...      2002-08-16   \n",
      "321  Flash of halogen-quality light on fast moving ...      2002-07-26   \n",
      "322  Extreme large&#44 very bright orb gave off no ...      2007-04-27   \n",
      "323                              stationary star moves      2002-10-15   \n",
      "324  A saucer that glowed like the moon and was the...      2002-05-14   \n",
      "325  Luminous green&#44 white outlined tear shaped ...      2002-01-11   \n",
      "326  Eleven objects over Manhatten for nearly 2 hours.      2002-09-13   \n",
      "327  they were flashing orbes of light&#44consistin...      2002-05-14   \n",
      "328  Huge Triangle shaped object with amber lights ...      2002-12-23   \n",
      "329  Bright lights seen over ocean in Daytona Beach...      2002-01-29   \n",
      "330    UFO near Cleveland Ohio&#44 evening of 2/12/02.      2002-02-22   \n",
      "331  High speed  blue white streak across the sky t...      2003-06-03   \n",
      "332  first i saw 8 white lights in a V formation of...      2003-10-07   \n",
      "333  My family saw strange flying object making wil...      2003-11-08   \n",
      "334  burning or bright object not falling to earth ...      2003-03-11   \n",
      "335  Diamond shaped fuselage with multiple red ligh...      2003-05-09   \n",
      "336                                   orbs in Colorado      2003-07-16   \n",
      "337  STAR LIKE OBJECT FLYING .GENTLEY ACROSS SKY AN...      2003-04-22   \n",
      "338  In the eastern sky (over head&#44 not near the...      2003-03-21   \n",
      "339  3 lights triangular shaped&#44 AAA fire&#44 li...      2003-09-24   \n",
      "340  We saw some object in the sky move very slowly...      2004-02-12   \n",
      "341  white&#44 caterpillar contrails over Los Angel...      2004-10-27   \n",
      "342  It looked like a star and moved in a circular ...      2004-04-09   \n",
      "343  I saw 5 saucers above Placerville CA.  ((NUFOR...      2004-10-27   \n",
      "344  Many unusual lights on one object.  ((NUFORC N...      2004-11-09   \n",
      "345  Bright yellow light at the horizon in the East...      2007-08-07   \n",
      "346         THE OBJECT WAS STREAKING&#44 THEN VANISHED      2004-02-12   \n",
      "\n",
      "      latitude   longitude  Difference  \n",
      "0    32.709167  -96.008056       34652  \n",
      "1    40.123889  -86.013333       32476  \n",
      "2    43.642500 -118.627500       26704  \n",
      "3    38.917222  -97.213611       27286  \n",
      "4    34.918056  -88.064167       27293  \n",
      "5    40.397222  -91.384722       24163  \n",
      "6    43.955278  -86.452500       22772  \n",
      "7    33.660000  -84.410278       23807  \n",
      "8    32.715278 -117.156389       22120  \n",
      "9    35.888056 -106.306389       23720  \n",
      "10   34.404722 -103.204722       22293  \n",
      "11   30.518056  -82.948333       23913  \n",
      "12   36.099722  -80.244444       22001  \n",
      "13   33.660278 -117.998333       21345  \n",
      "14   36.835278  -76.298611       21322  \n",
      "15   37.302222 -120.481944       21801  \n",
      "16   43.641389  -70.241389       22626  \n",
      "17   40.714167  -74.006389       22700  \n",
      "18   41.499444  -81.695556       19689  \n",
      "19   35.991111 -106.080000       24196  \n",
      "20   47.522500 -120.468611       21108  \n",
      "21   33.986667 -118.184444       21108  \n",
      "22   40.714167  -74.006389       20863  \n",
      "23   39.079167  -85.717500       20794  \n",
      "24   39.457500  -77.749167       22011  \n",
      "25   38.075000  -81.109722       19314  \n",
      "26   64.837778 -147.716389       23550  \n",
      "27   32.632222  -87.319167       20142  \n",
      "28   47.606389 -122.330833       20105  \n",
      "29   32.771389  -89.116667       21103  \n",
      "..         ...         ...         ...  \n",
      "317  26.141667  -81.795000          17  \n",
      "318  41.683333  -86.250000          14  \n",
      "319  38.150278  -92.617778           8  \n",
      "320  41.081389  -81.519167          43  \n",
      "321  34.108333 -117.288889          21  \n",
      "322  29.763056  -95.363056        1694  \n",
      "323  37.765278 -122.240556           9  \n",
      "324  38.627222  -90.197778           7  \n",
      "325  38.707222  -77.023333           3  \n",
      "326  40.714167  -74.006389           4  \n",
      "327  49.883333  -97.166667           4  \n",
      "328  32.715278 -117.156389         226  \n",
      "329  29.210556  -81.023056          17  \n",
      "330  41.452778  -82.182500           9  \n",
      "331  40.345000  -74.184444          62  \n",
      "332  30.047222  -99.140000           4  \n",
      "333  36.268611  -76.536111           3  \n",
      "334  34.077500 -117.688889          63  \n",
      "335  35.842222  -90.704167           1  \n",
      "336  39.063889 -108.550000           7  \n",
      "337  38.440556 -122.713333          12  \n",
      "338  33.282222 -116.632778          10  \n",
      "339  39.755556 -105.220556          74  \n",
      "340  41.683333  -86.250000          10  \n",
      "341  34.090000 -117.889444          24  \n",
      "342  25.773889  -80.193889           3  \n",
      "343  38.729722 -120.797500          20  \n",
      "344  46.294722 -108.937222           1  \n",
      "345  45.500000  -73.583333         971  \n",
      "346  40.758333  -82.515556           1  \n",
      "\n",
      "[347 rows x 12 columns]\n"
     ]
    }
   ],
   "source": [
    "#Question 134\n",
    "import pandas as pd\n",
    "df = pd.read_excel('D:\\ML MASTERS AND DEPLOYMENT\\_ufo.xlsx')\n",
    "df['date_documented'] = df['date_documented'].astype('datetime64[ns]')\n",
    "print(\"Original Dataframe:\")\n",
    "print(df.head())\n",
    "print(\"\\nDifference (in days) between documented date and reporting date of UFO:\")\n",
    "df['Difference'] = (df['date_documented'] - df['Date_time']).dt.days\n",
    "print(df)"
   ]
  },
  {
   "cell_type": "code",
   "execution_count": 20,
   "metadata": {},
   "outputs": [
    {
     "name": "stdout",
     "output_type": "stream",
     "text": [
      "Hourly frequency:\n",
      "DatetimeIndex(['2018-01-01 00:00:00', '2018-01-01 01:00:00',\n",
      "               '2018-01-01 02:00:00', '2018-01-01 03:00:00',\n",
      "               '2018-01-01 04:00:00', '2018-01-01 05:00:00',\n",
      "               '2018-01-01 06:00:00', '2018-01-01 07:00:00',\n",
      "               '2018-01-01 08:00:00', '2018-01-01 09:00:00',\n",
      "               '2018-01-01 10:00:00', '2018-01-01 11:00:00'],\n",
      "              dtype='datetime64[ns]', freq='H')\n",
      "\n",
      "Minutely frequency:\n",
      "DatetimeIndex(['2018-01-01 00:00:00', '2018-01-01 00:01:00',\n",
      "               '2018-01-01 00:02:00', '2018-01-01 00:03:00',\n",
      "               '2018-01-01 00:04:00', '2018-01-01 00:05:00',\n",
      "               '2018-01-01 00:06:00', '2018-01-01 00:07:00',\n",
      "               '2018-01-01 00:08:00', '2018-01-01 00:09:00',\n",
      "               '2018-01-01 00:10:00', '2018-01-01 00:11:00'],\n",
      "              dtype='datetime64[ns]', freq='T')\n",
      "\n",
      "Secondly frequency:\n",
      "DatetimeIndex(['2018-01-01 00:00:00', '2018-01-01 00:00:01',\n",
      "               '2018-01-01 00:00:02', '2018-01-01 00:00:03',\n",
      "               '2018-01-01 00:00:04', '2018-01-01 00:00:05',\n",
      "               '2018-01-01 00:00:06', '2018-01-01 00:00:07',\n",
      "               '2018-01-01 00:00:08', '2018-01-01 00:00:09',\n",
      "               '2018-01-01 00:00:10', '2018-01-01 00:00:11'],\n",
      "              dtype='datetime64[ns]', freq='S')\n"
     ]
    }
   ],
   "source": [
    "#Question 135\n",
    "import pandas as pd\n",
    "dtr = pd.date_range('2018-01-01', periods=12, freq='H')\n",
    "print(\"Hourly frequency:\")\n",
    "print(dtr)\n",
    "dtr = pd.date_range('2018-01-01', periods=12, freq='min')\n",
    "print(\"\\nMinutely frequency:\")\n",
    "print(dtr)\n",
    "dtr = pd.date_range('2018-01-01', periods=12, freq='S')\n",
    "print(\"\\nSecondly frequency:\")\n",
    "print(dtr)\n"
   ]
  },
  {
   "cell_type": "code",
   "execution_count": 21,
   "metadata": {},
   "outputs": [
    {
     "name": "stdout",
     "output_type": "stream",
     "text": [
      "DatetimeIndex(['2018-01-01 00:00:00+00:00', '2018-01-01 01:00:00+00:00',\n",
      "               '2018-01-01 02:00:00+00:00'],\n",
      "              dtype='datetime64[ns, UTC]', freq='H')\n",
      "\n",
      "From UTC to CET:\n",
      "DatetimeIndex(['2018-01-01 01:00:00+01:00', '2018-01-01 02:00:00+01:00',\n",
      "               '2018-01-01 03:00:00+01:00'],\n",
      "              dtype='datetime64[ns, CET]', freq='H')\n"
     ]
    }
   ],
   "source": [
    "#Question 136\n",
    "import pandas as pd\n",
    "df = pd.date_range('2018-01-01', periods=3, freq='H')\n",
    "df = df.tz_localize('UTC')\n",
    "print(df)\n",
    "print(\"\\nFrom UTC to CET:\")\n",
    "df = df.tz_convert('CET')\n",
    "print(df)\n"
   ]
  },
  {
   "cell_type": "code",
   "execution_count": 24,
   "metadata": {},
   "outputs": [
    {
     "data": {
      "image/png": "[encoded data removed]",
      "text/plain": [
       "<Figure size 1080x576 with 1 Axes>"
      ]
     },
     "metadata": {},
     "output_type": "display_data"
    }
   ],
   "source": [
    "#Question 137\n",
    "import pandas as pd\n",
    "import matplotlib.pyplot as plt\n",
    "import seaborn as sns\n",
    "df = pd.read_excel('D:\\ML MASTERS AND DEPLOYMENT\\_ufo.xlsx')\n",
    "df['Date_time'] = df['Date_time'].astype('datetime64[ns]')\n",
    "df[\"ufo_yr\"] = df.Date_time.dt.year\n",
    "years_data = df.ufo_yr.value_counts()\n",
    "years_index = years_data.index  # x ticks\n",
    "years_values = years_data.get_values()\n",
    "plt.figure(figsize=(15,8))\n",
    "plt.xticks(rotation = 60)\n",
    "plt.title('UFO Sightings by Year')\n",
    "plt.xlabel(\"Year\")\n",
    "plt.ylabel(\"Number of reports\")\n",
    "years_plot = sns.barplot(x=years_index[:60],y=years_values[:60], palette = \"Reds\")\n",
    "\n"
   ]
  },
  {
   "cell_type": "code",
   "execution_count": 92,
   "metadata": {},
   "outputs": [],
   "source": [
    "#Question 138\n",
    "import pandas as pd\n",
    "df = pd.read_excel('D:\\ML MASTERS AND DEPLOYMENT\\_ufo.xlsx')\n",
    "df['Date_time'] = df['Date_time'].astype('datetime64[ns]')\n",
    "most_sightings_years = df['Date_time'].dt.year.value_counts().head(10)\n",
    "def is_top_years(year):\n",
    "    if year in most_sightings_years.index:\n",
    "    return year\n",
    "hour_v_year = df.pivot_table(columns=df['Date_time'].dt.hour,index=df['Date_time'].dt.year.apply(is_top_years),aggfunc='count',values='city')\n",
    "hour_v_year.columns = hour_v_year.columns.astype(int)\n",
    "hour_v_year.columns = hour_v_year.columns.astype(str) + \":00\"\n",
    "hour_v_year.index = hour_v_year.index.astype(int)\n",
    "print(\"\\nComparison of the top 10 years in which the UFO was sighted vs the hours of the day:\")\n",
    "print(hour_v_year.head(10))\n",
    "\n",
    "\n"
   ]
  },
  {
   "cell_type": "code",
   "execution_count": 98,
   "metadata": {
    "scrolled": true
   },
   "outputs": [],
   "source": [
    "#Question 139\n",
    "import pandas as pd\n",
    "import matplotlib.pyplot as plt\n",
    "import seaborn as sns\n",
    "df = pd.read_excel('D:\\ML MASTERS AND DEPLOYMENT\\_ufo.xlsx')\n",
    "df['Date_time'] = df['Date_time'].astype('datetime64[ns]')\n",
    "most_sightings_years = df['Date_time'].dt.year.value_counts().head(10)\n",
    "def is_top_years(year):\n",
    "    if year in most_sightings_years.index:\n",
    "        return year\n",
    "month_vs_year = df.pivot_table(columns=df['Date_time'].dt.month,index=df['Date_time'].dt.year.apply(is_top_years),aggfunc='count',values='city')\n",
    "month_vs_year.columns = month_vs_year.columns.astype(int)\n",
    "print(\"\\nHeatmap for comparison of the top 10 years in which the UFO was sighted vs each month:\")\n",
    "plt.figure(figsize=(10,8))\n",
    "ax = sns.heatmap(month_vs_year, vmin=0, vmax=4)\n",
    "ax.set_xlabel('Month').set_size(20)\n",
    "ax.set_ylabel('Year').set_size(20)\n",
    "\n"
   ]
  },
  {
   "cell_type": "code",
   "execution_count": null,
   "metadata": {},
   "outputs": [],
   "source": [
    "#Question 140"
   ]
  },
  {
   "cell_type": "code",
   "execution_count": 4,
   "metadata": {},
   "outputs": [
    {
     "data": {
      "image/png": "[encoded data removed]",
      "text/plain": [
       "<Figure size 432x288 with 1 Axes>"
      ]
     },
     "metadata": {},
     "output_type": "display_data"
    }
   ],
   "source": [
    "#Question 141\n",
    "import matplotlib.pyplot as plt\n",
    "X = range(1, 50)\n",
    "Y = [value * 3 for value in X]\n",
    "plt.plot(X, Y)\n",
    "plt.xlabel('x - axis')\n",
    "plt.ylabel('y - axis')\n",
    "plt.title('Draw a line.')\n",
    "plt.show()\n"
   ]
  },
  {
   "cell_type": "code",
   "execution_count": 5,
   "metadata": {},
   "outputs": [
    {
     "data": {
      "image/png": "[encoded data removed]",
      "text/plain": [
       "<Figure size 432x288 with 1 Axes>"
      ]
     },
     "metadata": {},
     "output_type": "display_data"
    }
   ],
   "source": [
    "#Question 142\n",
    "import matplotlib.pyplot as plt\n",
    "import pandas as pd\n",
    "df = pd.read_excel('D:\\ML MASTERS AND DEPLOYMENT\\_fdata.xlsx', sep=',', parse_dates=True, index_col=0)\n",
    "df.plot()\n",
    "plt.show()\n"
   ]
  },
  {
   "cell_type": "code",
   "execution_count": 13,
   "metadata": {},
   "outputs": [
    {
     "data": {
      "image/png": "[encoded data removed]",
      "text/plain": [
       "<Figure size 432x288 with 1 Axes>"
      ]
     },
     "metadata": {},
     "output_type": "display_data"
    }
   ],
   "source": [
    "#Question 143\n",
    "import matplotlib.pyplot as plt\n",
    "x1 = [10,20,30]\n",
    "y1 = [20,40,10]\n",
    "plt.plot(x1, y1, label = \"line 1\")\n",
    "x2 = [10,20,30]\n",
    "y2 = [40,10,30]\n",
    "plt.plot(x2, y2, label = \"line 2\")\n",
    "plt.xlabel('x axis->')\n",
    "plt.ylabel('y axis->')\n",
    "plt.title('Two or more lines on same plot with suitable legends ')\n",
    "plt.legend()\n",
    "plt.show()\n"
   ]
  },
  {
   "cell_type": "code",
   "execution_count": 42,
   "metadata": {
    "scrolled": true
   },
   "outputs": [
    {
     "data": {
      "image/png": "[encoded data removed]",
      "text/plain": [
       "<Figure size 432x288 with 1 Axes>"
      ]
     },
     "metadata": {},
     "output_type": "display_data"
    }
   ],
   "source": [
    "#Question 144\n",
    "import numpy as np\n",
    "import matplotlib.pyplot as plt\n",
    "%matplotlib inline\n",
    "height = [22.2, 17.6, 8.8, 8, 7.7 , 6.7]\n",
    "bars = ('Java', 'Python', 'PHP', 'JavaScript','C#','C++')\n",
    "y_pos = np.arange(len(bars))\n",
    "plt.bar(y_pos, height)\n",
    "plt.xticks(y_pos, bars)\n",
    "plt.xlabel(\"Languages\")\n",
    "plt.ylabel(\"Popularity\")\n",
    "plt.title(\"PopularitY of Programming Language\\n\" + \"Worldwide, Oct 2017 compared to a year ago\")\n",
    "plt.grid(True, lw = 1, ls = '--', c = '0.6')\n",
    "plt.show()\n",
    "\n"
   ]
  },
  {
   "cell_type": "code",
   "execution_count": 45,
   "metadata": {},
   "outputs": [
    {
     "data": {
      "image/png": "[encoded data removed]",
      "text/plain": [
       "<Figure size 432x288 with 1 Axes>"
      ]
     },
     "metadata": {},
     "output_type": "display_data"
    }
   ],
   "source": [
    "#Question 145\n",
    "import numpy as np\n",
    "import matplotlib.pyplot as plt\n",
    "%matplotlib inline\n",
    "height = [22.2, 17.6, 8.8, 8, 7.7 , 6.7]\n",
    "bars = ('Java', 'Python', 'PHP', 'JavaScript','C#','C++')\n",
    "y_pos = np.arange(len(bars))\n",
    "plt.barh(y_pos, height)\n",
    "plt.yticks(y_pos, bars)\n",
    "plt.xlabel(\"Languages\")\n",
    "plt.ylabel(\"Popularity\")\n",
    "plt.title(\"PopularitY of Programming Language\\n\" + \"Worldwide, Oct 2017 compared to a year ago\")\n",
    "plt.grid(True, lw = 1, ls = '--', c = '0.6')\n",
    "plt.show()\n"
   ]
  },
  {
   "cell_type": "code",
   "execution_count": 46,
   "metadata": {
    "scrolled": true
   },
   "outputs": [
    {
     "data": {
      "image/png": "[encoded data removed]",
      "text/plain": [
       "<Figure size 432x288 with 1 Axes>"
      ]
     },
     "metadata": {},
     "output_type": "display_data"
    }
   ],
   "source": [
    "#Question 146\n",
    "import numpy as np\n",
    "import matplotlib.pyplot as plt\n",
    "%matplotlib inline\n",
    "height = [22.2, 17.6, 8.8, 8, 7.7 , 6.7]\n",
    "bars = ('Java', 'Python', 'PHP', 'JavaScript','C#','C++')\n",
    "y_pos = np.arange(len(bars))\n",
    "plt.bar(y_pos, height,color=(0.2, 0.3, 0.6, 1.0), edgecolor='black')\n",
    "plt.xlabel(\"Languages\")\n",
    "plt.ylabel(\"Popularity\")\n",
    "plt.title(\"PopularitY of Programming Language\\n\" + \"Worldwide, Oct 2017 compared to a year ago\")\n",
    "plt.xticks(y_pos, bars, rotation=90)\n",
    "plt.subplots_adjust(bottom=0.4, top=0.99)\n",
    "plt.grid(True, lw = 1, ls = '--', c = '0.6')\n",
    "plt.show()\n"
   ]
  },
  {
   "cell_type": "code",
   "execution_count": 70,
   "metadata": {},
   "outputs": [
    {
     "data": {
      "text/plain": [
       "<matplotlib.axes._subplots.AxesSubplot at 0x1fc8940aef0>"
      ]
     },
     "execution_count": 70,
     "metadata": {},
     "output_type": "execute_result"
    },
    {
     "data": {
      "image/png": "[encoded data removed]",
      "text/plain": [
       "<Figure size 432x288 with 1 Axes>"
      ]
     },
     "metadata": {},
     "output_type": "display_data"
    }
   ],
   "source": [
    "#Question 147\n",
    "from pandas import DataFrame\n",
    "import matplotlib.pyplot as plt\n",
    "%matplotlib inline\n",
    "import numpy as np\n",
    "%matplotlib inline\n",
    "a=np.array([[4,8,5,7,6],[2,3,4,2,6],[4,7,4,7,8],[2,6,4,8,6],[2,4,3,3,2]])\n",
    "df=DataFrame(a, columns=['a','b','c','d','e'], index=[2,4,6,8,10])\n",
    "\n",
    "df.plot(kind='bar',grid=True)"
   ]
  },
  {
   "cell_type": "code",
   "execution_count": 71,
   "metadata": {},
   "outputs": [
    {
     "data": {
      "image/png": "[encoded data removed]",
      "text/plain": [
       "<Figure size 432x288 with 1 Axes>"
      ]
     },
     "metadata": {},
     "output_type": "display_data"
    }
   ],
   "source": [
    "#Question 148\n",
    "import matplotlib.pyplot as plt\n",
    "import pandas as pd\n",
    "%matplotlib inline\n",
    "math_marks = [88, 92, 80, 89, 100, 80, 60, 100, 80, 34]\n",
    "science_marks = [35, 79, 79, 48, 100, 88, 32, 45, 20, 30]\n",
    "marks_range = [10, 20, 30, 40, 50, 60, 70, 80, 90, 100]\n",
    "plt.scatter(marks_range, math_marks, label='Math marks', color='r')\n",
    "plt.scatter(marks_range, science_marks, label='Science marks', color='g')\n",
    "plt.title('Scatter Plot')\n",
    "plt.xlabel('Marks Range')\n",
    "plt.ylabel('Marks Scored')\n",
    "plt.legend()\n",
    "plt.show()\n"
   ]
  },
  {
   "cell_type": "code",
   "execution_count": 81,
   "metadata": {},
   "outputs": [
    {
     "data": {
      "image/png": "[encoded data removed]",
      "text/plain": [
       "<Figure size 432x288 with 1 Axes>"
      ]
     },
     "metadata": {},
     "output_type": "display_data"
    }
   ],
   "source": [
    "#Question 149\n",
    "import matplotlib.pyplot as plt\n",
    "import numpy as np \n",
    "%matplotlib inline\n",
    "weight1=[67,57.2,59.6,59.64,55.8,61.2,60.45,61,56.23,56]\n",
    "height1=[101.7,197.6,98.3,125.1,113.7,157.7,136,148.9,125.3,114.9] \n",
    "weight2=[61.9,64,62.1,64.2,62.3,65.4,62.4,61.4,62.5,63.6]\n",
    "height2=[152.8,155.3,135.1,125.2,151.3,135,182.2,195.9,165.1,125.1] \n",
    "weight3=[68.2,67.2,68.4,68.7,71,71.3,70.8,70,71.1,71.7]\n",
    "height3=[165.8,170.9,192.8,135.4,161.4,136.1,167.1,235.1,181.1,177.3]\n",
    "weight=np.concatenate((weight1,weight2,weight3))\n",
    "height=np.concatenate((height1,height2,height3))\n",
    "plt.scatter(weight, height, marker=',', color=['red','green','blue'])\n",
    "plt.xlabel('weight', fontsize=16)\n",
    "plt.ylabel('height', fontsize=16)\n",
    "plt.title('Group wise Weight vs Height scatter plot',fontsize=18)\n",
    "plt.show()\n"
   ]
  },
  {
   "cell_type": "code",
   "execution_count": 85,
   "metadata": {},
   "outputs": [
    {
     "data": {
      "image/png": "[encoded data removed]",
      "text/plain": [
       "<Figure size 432x288 with 1 Axes>"
      ]
     },
     "metadata": {},
     "output_type": "display_data"
    }
   ],
   "source": [
    "#Question 150\n",
    "import matplotlib.pyplot as plt\n",
    "import pandas as pd\n",
    "data = pd.read_excel('D:\\ML MASTERS AND DEPLOYMENT\\data.xlsx')\n",
    "year = data['year']\n",
    "sea_levels = data['CSIRO_sea_level']\n",
    "plt.scatter(year, sea_levels, edgecolors='g')\n",
    "plt.xlabel('Year')\n",
    "plt.ylabel('Sea Level (inches)')\n",
    "plt.title('Rise in Sealevel')\n",
    "plt.show()\n"
   ]
  },
  {
   "cell_type": "code",
   "execution_count": null,
   "metadata": {},
   "outputs": [],
   "source": []
  },
  {
   "cell_type": "code",
   "execution_count": null,
   "metadata": {},
   "outputs": [],
   "source": []
  },
  {
   "cell_type": "code",
   "execution_count": null,
   "metadata": {},
   "outputs": [],
   "source": []
  },
  {
   "cell_type": "code",
   "execution_count": null,
   "metadata": {},
   "outputs": [],
   "source": []
  },
  {
   "cell_type": "code",
   "execution_count": null,
   "metadata": {},
   "outputs": [],
   "source": []
  },
  {
   "cell_type": "code",
   "execution_count": null,
   "metadata": {},
   "outputs": [],
   "source": []
  },
  {
   "cell_type": "code",
   "execution_count": null,
   "metadata": {},
   "outputs": [],
   "source": []
  },
  {
   "cell_type": "code",
   "execution_count": null,
   "metadata": {},
   "outputs": [],
   "source": []
  },
  {
   "cell_type": "code",
   "execution_count": null,
   "metadata": {},
   "outputs": [],
   "source": []
  },
  {
   "cell_type": "code",
   "execution_count": null,
   "metadata": {},
   "outputs": [],
   "source": []
  },
  {
   "cell_type": "code",
   "execution_count": null,
   "metadata": {},
   "outputs": [],
   "source": []
  },
  {
   "cell_type": "code",
   "execution_count": null,
   "metadata": {},
   "outputs": [],
   "source": []
  },
  {
   "cell_type": "code",
   "execution_count": null,
   "metadata": {},
   "outputs": [],
   "source": []
  },
  {
   "cell_type": "code",
   "execution_count": null,
   "metadata": {},
   "outputs": [],
   "source": []
  },
  {
   "cell_type": "code",
   "execution_count": null,
   "metadata": {},
   "outputs": [],
   "source": []
  },
  {
   "cell_type": "code",
   "execution_count": null,
   "metadata": {},
   "outputs": [],
   "source": []
  },
  {
   "cell_type": "code",
   "execution_count": null,
   "metadata": {},
   "outputs": [],
   "source": []
  },
  {
   "cell_type": "code",
   "execution_count": null,
   "metadata": {},
   "outputs": [],
   "source": []
  },
  {
   "cell_type": "code",
   "execution_count": null,
   "metadata": {},
   "outputs": [],
   "source": []
  }
 ],
 "metadata": {
  "kernelspec": {
   "display_name": "Python 3",
   "language": "python",
   "name": "python3"
  },
  "language_info": {
   "codemirror_mode": {
    "name": "ipython",
    "version": 3
   },
   "file_extension": ".py",
   "mimetype": "text/x-python",
   "name": "python",
   "nbconvert_exporter": "python",
   "pygments_lexer": "ipython3",
   "version": "3.6.5"
  }
 },
 "nbformat": 4,
 "nbformat_minor": 2
}
